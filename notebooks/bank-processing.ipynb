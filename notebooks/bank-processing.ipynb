{
 "cells": [
  {
   "cell_type": "code",
   "execution_count": 1,
   "metadata": {},
   "outputs": [],
   "source": [
    "import sys\n",
    "sys.path.append(\"../\")"
   ]
  },
  {
   "cell_type": "code",
   "execution_count": 2,
   "metadata": {},
   "outputs": [],
   "source": [
    "# statement_name = \"../data/Справка_о_движении_денежных_средств_0819.pdf\"\n",
    "# incomes = 9678606.76\n",
    "# expences = -9128682.41\n",
    "# bank_name = \"tbank\"\n",
    "\n",
    "statement_name = \"../data/ozonbank_document_5189822.pdf\"\n",
    "incomes = 79744.0\n",
    "expences = -78949\n",
    "bank_name = \"ozon\"\n",
    "\n"
   ]
  },
  {
   "cell_type": "markdown",
   "metadata": {},
   "source": [
    "# 0. Настройка"
   ]
  },
  {
   "cell_type": "code",
   "execution_count": 3,
   "metadata": {},
   "outputs": [],
   "source": [
    "from src.finman.utils.pdf import extract_text_from_pdf\n",
    "from src.finman.expenses import tbank, ozon\n",
    "from src.finman.utils.gsheet import GSheetWorker"
   ]
  },
  {
   "cell_type": "code",
   "execution_count": 4,
   "metadata": {},
   "outputs": [],
   "source": [
    "sheet_id = \"1GqwNPuOtQUXfltK6F4oHpx-U1BqBgiDZfC5YfDcJyto\"\n",
    "gcreds_file = \"../secrets/finman-433017-da308d823497.json\"\n",
    "\n",
    "gsw = GSheetWorker(gcreds_file)"
   ]
  },
  {
   "cell_type": "code",
   "execution_count": 5,
   "metadata": {},
   "outputs": [],
   "source": [
    "if bank_name == \"tbank\":\n",
    "    trans_col = \"Сумма операции в валюте карты\"\n",
    "    date_col = \"Дата операции\"\n",
    "    time_col = \"Время операции\"\n",
    "    spreadsheet_name = \"t-bank (main)\"\n",
    "    parse_operations = tbank.parse_operations\n",
    "\n",
    "elif bank_name == \"ozon\":\n",
    "    trans_col = \"Сумма операции\"\n",
    "    date_col = \"Дата операции\"\n",
    "    time_col = \"Время операции\"\n",
    "    spreadsheet_name = \"ozon-bank (main)\"\n",
    "    parse_operations = ozon.parse_operations"
   ]
  },
  {
   "cell_type": "markdown",
   "metadata": {},
   "source": [
    "# 1. Прочитать выписку"
   ]
  },
  {
   "cell_type": "code",
   "execution_count": 6,
   "metadata": {},
   "outputs": [],
   "source": [
    "text = extract_text_from_pdf(statement_name)\n",
    "transactions_df = parse_operations(text)"
   ]
  },
  {
   "cell_type": "code",
   "execution_count": 7,
   "metadata": {},
   "outputs": [
    {
     "data": {
      "text/html": [
       "<div>\n",
       "<style scoped>\n",
       "    .dataframe tbody tr th:only-of-type {\n",
       "        vertical-align: middle;\n",
       "    }\n",
       "\n",
       "    .dataframe tbody tr th {\n",
       "        vertical-align: top;\n",
       "    }\n",
       "\n",
       "    .dataframe thead th {\n",
       "        text-align: right;\n",
       "    }\n",
       "</style>\n",
       "<table border=\"1\" class=\"dataframe\">\n",
       "  <thead>\n",
       "    <tr style=\"text-align: right;\">\n",
       "      <th></th>\n",
       "      <th>id</th>\n",
       "      <th>Дата операции</th>\n",
       "      <th>Время операции</th>\n",
       "      <th>Сумма операции</th>\n",
       "      <th>Документ</th>\n",
       "      <th>Назначение платежа</th>\n",
       "    </tr>\n",
       "  </thead>\n",
       "  <tbody>\n",
       "    <tr>\n",
       "      <th>0</th>\n",
       "      <td>4348aedc63</td>\n",
       "      <td>2024-08-16</td>\n",
       "      <td>2024-08-16 18:21:38</td>\n",
       "      <td>-482.0</td>\n",
       "      <td>2125895187</td>\n",
       "      <td>Оплата товаров/услуг на Платформе Ozon, заказ ...</td>\n",
       "    </tr>\n",
       "    <tr>\n",
       "      <th>1</th>\n",
       "      <td>7725e5161f</td>\n",
       "      <td>2024-08-13</td>\n",
       "      <td>2024-08-13 19:02:08</td>\n",
       "      <td>938.0</td>\n",
       "      <td>2107392458</td>\n",
       "      <td>Возврат оплаты за товары/услуги, купленные на ...</td>\n",
       "    </tr>\n",
       "    <tr>\n",
       "      <th>2</th>\n",
       "      <td>8e154900e2</td>\n",
       "      <td>2024-08-13</td>\n",
       "      <td>2024-08-13 09:24:59</td>\n",
       "      <td>-2682.0</td>\n",
       "      <td>2103792680</td>\n",
       "      <td>Оплата товаров/услуг на Платформе Ozon, заказ ...</td>\n",
       "    </tr>\n",
       "    <tr>\n",
       "      <th>3</th>\n",
       "      <td>71275ad89c</td>\n",
       "      <td>2024-08-13</td>\n",
       "      <td>2024-08-13 09:24:56</td>\n",
       "      <td>2690.0</td>\n",
       "      <td>1280184534</td>\n",
       "      <td>Перевод A4226062454289120000000011310501 через...</td>\n",
       "    </tr>\n",
       "    <tr>\n",
       "      <th>4</th>\n",
       "      <td>ead5097e9a</td>\n",
       "      <td>2024-08-12</td>\n",
       "      <td>2024-08-12 10:29:24</td>\n",
       "      <td>-2871.0</td>\n",
       "      <td>2097210103</td>\n",
       "      <td>Оплата товаров/услуг на Платформе Ozon, заказ ...</td>\n",
       "    </tr>\n",
       "  </tbody>\n",
       "</table>\n",
       "</div>"
      ],
      "text/plain": [
       "           id Дата операции      Время операции  Сумма операции    Документ   \n",
       "0  4348aedc63    2024-08-16 2024-08-16 18:21:38          -482.0  2125895187  \\\n",
       "1  7725e5161f    2024-08-13 2024-08-13 19:02:08           938.0  2107392458   \n",
       "2  8e154900e2    2024-08-13 2024-08-13 09:24:59         -2682.0  2103792680   \n",
       "3  71275ad89c    2024-08-13 2024-08-13 09:24:56          2690.0  1280184534   \n",
       "4  ead5097e9a    2024-08-12 2024-08-12 10:29:24         -2871.0  2097210103   \n",
       "\n",
       "                                  Назначение платежа  \n",
       "0  Оплата товаров/услуг на Платформе Ozon, заказ ...  \n",
       "1  Возврат оплаты за товары/услуги, купленные на ...  \n",
       "2  Оплата товаров/услуг на Платформе Ozon, заказ ...  \n",
       "3  Перевод A4226062454289120000000011310501 через...  \n",
       "4  Оплата товаров/услуг на Платформе Ozon, заказ ...  "
      ]
     },
     "execution_count": 7,
     "metadata": {},
     "output_type": "execute_result"
    }
   ],
   "source": [
    "transactions_df.head()"
   ]
  },
  {
   "cell_type": "code",
   "execution_count": 8,
   "metadata": {},
   "outputs": [],
   "source": [
    "assert transactions_df.loc[transactions_df[trans_col] > 0][trans_col].sum() == incomes\n",
    "assert transactions_df.loc[transactions_df[trans_col] < 0][trans_col].sum() == expences"
   ]
  },
  {
   "cell_type": "markdown",
   "metadata": {},
   "source": [
    "# 2. Запроцессить гугол"
   ]
  },
  {
   "cell_type": "code",
   "execution_count": 9,
   "metadata": {},
   "outputs": [],
   "source": [
    "gs_df = gsw.get_df(sheet_id, spreadsheet_name)"
   ]
  },
  {
   "cell_type": "code",
   "execution_count": 10,
   "metadata": {},
   "outputs": [
    {
     "data": {
      "text/html": [
       "<div>\n",
       "<style scoped>\n",
       "    .dataframe tbody tr th:only-of-type {\n",
       "        vertical-align: middle;\n",
       "    }\n",
       "\n",
       "    .dataframe tbody tr th {\n",
       "        vertical-align: top;\n",
       "    }\n",
       "\n",
       "    .dataframe thead th {\n",
       "        text-align: right;\n",
       "    }\n",
       "</style>\n",
       "<table border=\"1\" class=\"dataframe\">\n",
       "  <thead>\n",
       "    <tr style=\"text-align: right;\">\n",
       "      <th></th>\n",
       "      <th>id</th>\n",
       "      <th>Дата операции</th>\n",
       "      <th>Время операции</th>\n",
       "      <th>Сумма операции</th>\n",
       "      <th>Документ</th>\n",
       "      <th>Назначение платежа</th>\n",
       "    </tr>\n",
       "  </thead>\n",
       "  <tbody>\n",
       "  </tbody>\n",
       "</table>\n",
       "</div>"
      ],
      "text/plain": [
       "Empty DataFrame\n",
       "Columns: [id, Дата операции, Время операции, Сумма операции, Документ, Назначение платежа]\n",
       "Index: []"
      ]
     },
     "execution_count": 10,
     "metadata": {},
     "output_type": "execute_result"
    }
   ],
   "source": [
    "gs_df.head()"
   ]
  },
  {
   "cell_type": "code",
   "execution_count": 14,
   "metadata": {},
   "outputs": [],
   "source": [
    "missing_recrods = transactions_df.loc[~transactions_df['id'].isin(gs_df['id'])]"
   ]
  },
  {
   "cell_type": "code",
   "execution_count": 15,
   "metadata": {},
   "outputs": [
    {
     "data": {
      "text/html": [
       "<div>\n",
       "<style scoped>\n",
       "    .dataframe tbody tr th:only-of-type {\n",
       "        vertical-align: middle;\n",
       "    }\n",
       "\n",
       "    .dataframe tbody tr th {\n",
       "        vertical-align: top;\n",
       "    }\n",
       "\n",
       "    .dataframe thead th {\n",
       "        text-align: right;\n",
       "    }\n",
       "</style>\n",
       "<table border=\"1\" class=\"dataframe\">\n",
       "  <thead>\n",
       "    <tr style=\"text-align: right;\">\n",
       "      <th></th>\n",
       "      <th>id</th>\n",
       "      <th>Дата операции</th>\n",
       "      <th>Время операции</th>\n",
       "      <th>Сумма операции</th>\n",
       "      <th>Документ</th>\n",
       "      <th>Назначение платежа</th>\n",
       "    </tr>\n",
       "  </thead>\n",
       "  <tbody>\n",
       "    <tr>\n",
       "      <th>0</th>\n",
       "      <td>4348aedc63</td>\n",
       "      <td>2024-08-16</td>\n",
       "      <td>2024-08-16 18:21:38</td>\n",
       "      <td>-482.0</td>\n",
       "      <td>2125895187</td>\n",
       "      <td>Оплата товаров/услуг на Платформе Ozon, заказ ...</td>\n",
       "    </tr>\n",
       "    <tr>\n",
       "      <th>1</th>\n",
       "      <td>7725e5161f</td>\n",
       "      <td>2024-08-13</td>\n",
       "      <td>2024-08-13 19:02:08</td>\n",
       "      <td>938.0</td>\n",
       "      <td>2107392458</td>\n",
       "      <td>Возврат оплаты за товары/услуги, купленные на ...</td>\n",
       "    </tr>\n",
       "    <tr>\n",
       "      <th>2</th>\n",
       "      <td>8e154900e2</td>\n",
       "      <td>2024-08-13</td>\n",
       "      <td>2024-08-13 09:24:59</td>\n",
       "      <td>-2682.0</td>\n",
       "      <td>2103792680</td>\n",
       "      <td>Оплата товаров/услуг на Платформе Ozon, заказ ...</td>\n",
       "    </tr>\n",
       "    <tr>\n",
       "      <th>3</th>\n",
       "      <td>71275ad89c</td>\n",
       "      <td>2024-08-13</td>\n",
       "      <td>2024-08-13 09:24:56</td>\n",
       "      <td>2690.0</td>\n",
       "      <td>1280184534</td>\n",
       "      <td>Перевод A4226062454289120000000011310501 через...</td>\n",
       "    </tr>\n",
       "    <tr>\n",
       "      <th>4</th>\n",
       "      <td>ead5097e9a</td>\n",
       "      <td>2024-08-12</td>\n",
       "      <td>2024-08-12 10:29:24</td>\n",
       "      <td>-2871.0</td>\n",
       "      <td>2097210103</td>\n",
       "      <td>Оплата товаров/услуг на Платформе Ozon, заказ ...</td>\n",
       "    </tr>\n",
       "  </tbody>\n",
       "</table>\n",
       "</div>"
      ],
      "text/plain": [
       "           id Дата операции      Время операции  Сумма операции    Документ   \n",
       "0  4348aedc63    2024-08-16 2024-08-16 18:21:38          -482.0  2125895187  \\\n",
       "1  7725e5161f    2024-08-13 2024-08-13 19:02:08           938.0  2107392458   \n",
       "2  8e154900e2    2024-08-13 2024-08-13 09:24:59         -2682.0  2103792680   \n",
       "3  71275ad89c    2024-08-13 2024-08-13 09:24:56          2690.0  1280184534   \n",
       "4  ead5097e9a    2024-08-12 2024-08-12 10:29:24         -2871.0  2097210103   \n",
       "\n",
       "                                  Назначение платежа  \n",
       "0  Оплата товаров/услуг на Платформе Ozon, заказ ...  \n",
       "1  Возврат оплаты за товары/услуги, купленные на ...  \n",
       "2  Оплата товаров/услуг на Платформе Ozon, заказ ...  \n",
       "3  Перевод A4226062454289120000000011310501 через...  \n",
       "4  Оплата товаров/услуг на Платформе Ozon, заказ ...  "
      ]
     },
     "execution_count": 15,
     "metadata": {},
     "output_type": "execute_result"
    }
   ],
   "source": [
    "missing_recrods.head()"
   ]
  },
  {
   "cell_type": "code",
   "execution_count": 16,
   "metadata": {},
   "outputs": [],
   "source": [
    "missing_recrods[date_col] = missing_recrods[date_col].astype(str)\n",
    "missing_recrods[time_col] = missing_recrods[time_col].dt.strftime('%Y-%m-%d %H:%M')\n",
    "\n",
    "gsw.insert_df(missing_recrods, sheet_id, spreadsheet_name)"
   ]
  },
  {
   "cell_type": "code",
   "execution_count": null,
   "metadata": {},
   "outputs": [],
   "source": []
  }
 ],
 "metadata": {
  "kernelspec": {
   "display_name": "Python 3",
   "language": "python",
   "name": "python3"
  },
  "language_info": {
   "codemirror_mode": {
    "name": "ipython",
    "version": 3
   },
   "file_extension": ".py",
   "mimetype": "text/x-python",
   "name": "python",
   "nbconvert_exporter": "python",
   "pygments_lexer": "ipython3",
   "version": "3.10.11"
  }
 },
 "nbformat": 4,
 "nbformat_minor": 2
}
