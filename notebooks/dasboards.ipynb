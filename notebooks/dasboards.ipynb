{
 "cells": [
  {
   "cell_type": "code",
   "execution_count": 138,
   "metadata": {},
   "outputs": [],
   "source": [
    "import sys\n",
    "sys.path.append(\"../\")\n",
    "\n",
    "import pandas as pd\n",
    "import seaborn as sns\n",
    "import numpy as np\n",
    "\n",
    "sns.set_style('darkgrid')\n",
    "sns.set(font_scale = 1.5)"
   ]
  },
  {
   "cell_type": "code",
   "execution_count": 139,
   "metadata": {},
   "outputs": [],
   "source": [
    "from src.finman.utils.gsheet import GSheetWorker"
   ]
  },
  {
   "cell_type": "code",
   "execution_count": 140,
   "metadata": {},
   "outputs": [],
   "source": [
    "sheet_id = \"1GqwNPuOtQUXfltK6F4oHpx-U1BqBgiDZfC5YfDcJyto\"\n",
    "gcreds_file = \"../secrets/finman-433017-da308d823497.json\"\n",
    "\n",
    "gsw = GSheetWorker(gcreds_file)"
   ]
  },
  {
   "cell_type": "markdown",
   "metadata": {},
   "source": [
    "# 1. Data Processing"
   ]
  },
  {
   "cell_type": "markdown",
   "metadata": {},
   "source": [
    "### 1.1 Чтение всех транзакций из гуглодока"
   ]
  },
  {
   "cell_type": "code",
   "execution_count": 141,
   "metadata": {},
   "outputs": [],
   "source": [
    "sheet_setups = [\n",
    "    {\n",
    "        \"bank_sheet_name\": \"t-bank (main)\",\n",
    "        \"dt_col\": \"Время операции\",\n",
    "        \"trans_rub_col\": \"Сумма операции в валюте карты\",\n",
    "    },\n",
    "    {\n",
    "        \"bank_sheet_name\": \"t-bank (deposit)\",\n",
    "        \"dt_col\": \"Время операции\",\n",
    "        \"trans_rub_col\": \"Сумма операции в валюте карты\",\n",
    "    },\n",
    "    {\n",
    "        \"bank_sheet_name\": \"t-bank (invest)\",\n",
    "        \"dt_col\": \"Время операции\",\n",
    "        \"trans_rub_col\": \"Сумма операции в валюте карты\",\n",
    "    },\n",
    "    {\n",
    "        \"bank_sheet_name\": \"ozon-bank (main)\",\n",
    "        \"dt_col\": \"Время операции\",\n",
    "        \"trans_rub_col\": \"Сумма операции\",\n",
    "    },\n",
    "]\n",
    "\n",
    "transaction_lists = [\n",
    "    \"t-bank (main)\", \"ozon-bank (main)\"\n",
    "]\n",
    "\n",
    "cat_col = \"Категория\"\n",
    "subcat_col = \"Подкатегория\"\n",
    "debt_col = \"Долг\""
   ]
  },
  {
   "cell_type": "code",
   "execution_count": 142,
   "metadata": {},
   "outputs": [
    {
     "name": "stderr",
     "output_type": "stream",
     "text": [
      "/var/folders/n9/7qzl9sfj3_n9hmnht95_9jy80000gn/T/ipykernel_3547/27192228.py:20: SettingWithCopyWarning:\n",
      "\n",
      "\n",
      "A value is trying to be set on a copy of a slice from a DataFrame.\n",
      "Try using .loc[row_indexer,col_indexer] = value instead\n",
      "\n",
      "See the caveats in the documentation: https://pandas.pydata.org/pandas-docs/stable/user_guide/indexing.html#returning-a-view-versus-a-copy\n",
      "\n"
     ]
    },
    {
     "name": "stdout",
     "output_type": "stream",
     "text": [
      "t-bank (main) done!\n"
     ]
    },
    {
     "name": "stderr",
     "output_type": "stream",
     "text": [
      "/var/folders/n9/7qzl9sfj3_n9hmnht95_9jy80000gn/T/ipykernel_3547/27192228.py:20: SettingWithCopyWarning:\n",
      "\n",
      "\n",
      "A value is trying to be set on a copy of a slice from a DataFrame.\n",
      "Try using .loc[row_indexer,col_indexer] = value instead\n",
      "\n",
      "See the caveats in the documentation: https://pandas.pydata.org/pandas-docs/stable/user_guide/indexing.html#returning-a-view-versus-a-copy\n",
      "\n"
     ]
    },
    {
     "name": "stdout",
     "output_type": "stream",
     "text": [
      "t-bank (deposit) done!\n"
     ]
    },
    {
     "name": "stderr",
     "output_type": "stream",
     "text": [
      "/var/folders/n9/7qzl9sfj3_n9hmnht95_9jy80000gn/T/ipykernel_3547/27192228.py:20: SettingWithCopyWarning:\n",
      "\n",
      "\n",
      "A value is trying to be set on a copy of a slice from a DataFrame.\n",
      "Try using .loc[row_indexer,col_indexer] = value instead\n",
      "\n",
      "See the caveats in the documentation: https://pandas.pydata.org/pandas-docs/stable/user_guide/indexing.html#returning-a-view-versus-a-copy\n",
      "\n"
     ]
    },
    {
     "name": "stdout",
     "output_type": "stream",
     "text": [
      "t-bank (invest) done!\n",
      "ozon-bank (main) done!\n"
     ]
    },
    {
     "name": "stderr",
     "output_type": "stream",
     "text": [
      "/var/folders/n9/7qzl9sfj3_n9hmnht95_9jy80000gn/T/ipykernel_3547/27192228.py:20: SettingWithCopyWarning:\n",
      "\n",
      "\n",
      "A value is trying to be set on a copy of a slice from a DataFrame.\n",
      "Try using .loc[row_indexer,col_indexer] = value instead\n",
      "\n",
      "See the caveats in the documentation: https://pandas.pydata.org/pandas-docs/stable/user_guide/indexing.html#returning-a-view-versus-a-copy\n",
      "\n"
     ]
    }
   ],
   "source": [
    "trans_df = []\n",
    "for setup in sheet_setups:\n",
    "    gs_df = gsw.get_df(sheet_id, setup[\"bank_sheet_name\"])\n",
    "\n",
    "    gs_df = gs_df.rename(columns={\n",
    "        setup['dt_col']: \"dt\",\n",
    "        setup['trans_rub_col']: \"trans_rub\",\n",
    "\n",
    "    })\n",
    "\n",
    "    if setup[\"bank_sheet_name\"] in transaction_lists:\n",
    "        trans_df.append(gs_df[[\n",
    "            \"dt\", \"trans_rub\", cat_col, subcat_col, debt_col\n",
    "        ]])\n",
    "    else:\n",
    "        trans_df.append(gs_df[[\n",
    "            \"dt\", \"trans_rub\", cat_col, subcat_col\n",
    "        ]])\n",
    "\n",
    "    trans_df[-1]['account'] = setup[\"bank_sheet_name\"]\n",
    "\n",
    "    print(setup[\"bank_sheet_name\"] + \" done!\")\n",
    "\n",
    "trans_df = pd.concat(trans_df)"
   ]
  },
  {
   "cell_type": "code",
   "execution_count": 143,
   "metadata": {},
   "outputs": [
    {
     "data": {
      "text/html": [
       "<div>\n",
       "<style scoped>\n",
       "    .dataframe tbody tr th:only-of-type {\n",
       "        vertical-align: middle;\n",
       "    }\n",
       "\n",
       "    .dataframe tbody tr th {\n",
       "        vertical-align: top;\n",
       "    }\n",
       "\n",
       "    .dataframe thead th {\n",
       "        text-align: right;\n",
       "    }\n",
       "</style>\n",
       "<table border=\"1\" class=\"dataframe\">\n",
       "  <thead>\n",
       "    <tr style=\"text-align: right;\">\n",
       "      <th></th>\n",
       "      <th>dt</th>\n",
       "      <th>trans_rub</th>\n",
       "      <th>Категория</th>\n",
       "      <th>Подкатегория</th>\n",
       "      <th>Долг</th>\n",
       "      <th>account</th>\n",
       "    </tr>\n",
       "  </thead>\n",
       "  <tbody>\n",
       "    <tr>\n",
       "      <th>0</th>\n",
       "      <td>2024-10-30 20:27</td>\n",
       "      <td>-4000</td>\n",
       "      <td>Transfer</td>\n",
       "      <td>Internal</td>\n",
       "      <td>None</td>\n",
       "      <td>t-bank (main)</td>\n",
       "    </tr>\n",
       "    <tr>\n",
       "      <th>1</th>\n",
       "      <td>2024-10-30 12:57</td>\n",
       "      <td>-2283.1</td>\n",
       "      <td>Food &amp; Dining</td>\n",
       "      <td>Delivery</td>\n",
       "      <td>None</td>\n",
       "      <td>t-bank (main)</td>\n",
       "    </tr>\n",
       "    <tr>\n",
       "      <th>2</th>\n",
       "      <td>2024-10-30 11:39</td>\n",
       "      <td>-2730</td>\n",
       "      <td>Entertainment</td>\n",
       "      <td>Restaurants</td>\n",
       "      <td>None</td>\n",
       "      <td>t-bank (main)</td>\n",
       "    </tr>\n",
       "    <tr>\n",
       "      <th>3</th>\n",
       "      <td>2024-10-29 21:53</td>\n",
       "      <td>-900</td>\n",
       "      <td>Entertainment</td>\n",
       "      <td>Restaurants</td>\n",
       "      <td>None</td>\n",
       "      <td>t-bank (main)</td>\n",
       "    </tr>\n",
       "    <tr>\n",
       "      <th>4</th>\n",
       "      <td>2024-10-29 20:49</td>\n",
       "      <td>-50</td>\n",
       "      <td>Sport</td>\n",
       "      <td>Padel</td>\n",
       "      <td>None</td>\n",
       "      <td>t-bank (main)</td>\n",
       "    </tr>\n",
       "  </tbody>\n",
       "</table>\n",
       "</div>"
      ],
      "text/plain": [
       "                 dt trans_rub      Категория Подкатегория  Долг        account\n",
       "0  2024-10-30 20:27     -4000       Transfer     Internal  None  t-bank (main)\n",
       "1  2024-10-30 12:57   -2283.1  Food & Dining     Delivery  None  t-bank (main)\n",
       "2  2024-10-30 11:39     -2730  Entertainment  Restaurants  None  t-bank (main)\n",
       "3  2024-10-29 21:53      -900  Entertainment  Restaurants  None  t-bank (main)\n",
       "4  2024-10-29 20:49       -50          Sport        Padel  None  t-bank (main)"
      ]
     },
     "execution_count": 143,
     "metadata": {},
     "output_type": "execute_result"
    }
   ],
   "source": [
    "trans_df.head()"
   ]
  },
  {
   "cell_type": "code",
   "execution_count": 144,
   "metadata": {},
   "outputs": [],
   "source": [
    "trans_df['dt'] = pd.to_datetime(trans_df['dt'])\n",
    "trans_df['trans_rub'] = pd.to_numeric(trans_df['trans_rub'])"
   ]
  },
  {
   "cell_type": "markdown",
   "metadata": {},
   "source": [
    "### 1.2 Агрегация по долгам"
   ]
  },
  {
   "cell_type": "code",
   "execution_count": 145,
   "metadata": {},
   "outputs": [],
   "source": [
    "trans_df_no_debt = trans_df.loc[(trans_df['Долг'].isnull()) | (trans_df['Долг'] == '')]\n",
    "trans_df_debt = trans_df.loc[(trans_df['Долг'] != '') & (trans_df['Долг'].notnull())]\n",
    "\n",
    "assert (trans_df_no_debt.shape[0] + trans_df_debt.shape[0]) == trans_df.shape[0]"
   ]
  },
  {
   "cell_type": "code",
   "execution_count": 146,
   "metadata": {},
   "outputs": [],
   "source": [
    "trans_df_debt = trans_df_debt.groupby('Долг').agg({\n",
    "    'dt': min,\n",
    "    'trans_rub': sum,\n",
    "    'Категория': \"last\",\n",
    "    'Подкатегория': \"last\",\n",
    "    'account': lambda x: \";\".join(set(x))\n",
    "}).reset_index()"
   ]
  },
  {
   "cell_type": "code",
   "execution_count": 147,
   "metadata": {},
   "outputs": [
    {
     "data": {
      "text/html": [
       "<div>\n",
       "<style scoped>\n",
       "    .dataframe tbody tr th:only-of-type {\n",
       "        vertical-align: middle;\n",
       "    }\n",
       "\n",
       "    .dataframe tbody tr th {\n",
       "        vertical-align: top;\n",
       "    }\n",
       "\n",
       "    .dataframe thead th {\n",
       "        text-align: right;\n",
       "    }\n",
       "</style>\n",
       "<table border=\"1\" class=\"dataframe\">\n",
       "  <thead>\n",
       "    <tr style=\"text-align: right;\">\n",
       "      <th></th>\n",
       "      <th>Долг</th>\n",
       "      <th>dt</th>\n",
       "      <th>trans_rub</th>\n",
       "      <th>Категория</th>\n",
       "      <th>Подкатегория</th>\n",
       "      <th>account</th>\n",
       "    </tr>\n",
       "  </thead>\n",
       "  <tbody>\n",
       "    <tr>\n",
       "      <th>0</th>\n",
       "      <td>Padel_240903</td>\n",
       "      <td>2024-08-28 10:55:00</td>\n",
       "      <td>-1500.0</td>\n",
       "      <td>Sport</td>\n",
       "      <td>Padel</td>\n",
       "      <td>t-bank (main)</td>\n",
       "    </tr>\n",
       "    <tr>\n",
       "      <th>1</th>\n",
       "      <td>egg_s 240925</td>\n",
       "      <td>2024-09-25 11:03:00</td>\n",
       "      <td>-1540.0</td>\n",
       "      <td>Entertainment</td>\n",
       "      <td>Restaurants</td>\n",
       "      <td>t-bank (main)</td>\n",
       "    </tr>\n",
       "    <tr>\n",
       "      <th>2</th>\n",
       "      <td>костюм в яки</td>\n",
       "      <td>2024-10-15 17:58:00</td>\n",
       "      <td>-12500.0</td>\n",
       "      <td>Other</td>\n",
       "      <td>Other</td>\n",
       "      <td>t-bank (main)</td>\n",
       "    </tr>\n",
       "    <tr>\n",
       "      <th>3</th>\n",
       "      <td>кэш_алене 240913</td>\n",
       "      <td>2024-09-13 20:06:00</td>\n",
       "      <td>0.0</td>\n",
       "      <td>Transfer</td>\n",
       "      <td>Debt</td>\n",
       "      <td>t-bank (main)</td>\n",
       "    </tr>\n",
       "    <tr>\n",
       "      <th>4</th>\n",
       "      <td>мак к зубрам</td>\n",
       "      <td>2024-10-19 13:54:00</td>\n",
       "      <td>-2554.0</td>\n",
       "      <td>Entertainment</td>\n",
       "      <td>Restaurants</td>\n",
       "      <td>t-bank (main)</td>\n",
       "    </tr>\n",
       "    <tr>\n",
       "      <th>5</th>\n",
       "      <td>падел фили 240807</td>\n",
       "      <td>2024-08-05 17:02:00</td>\n",
       "      <td>-2975.0</td>\n",
       "      <td>Sport</td>\n",
       "      <td>Padel</td>\n",
       "      <td>t-bank (main)</td>\n",
       "    </tr>\n",
       "    <tr>\n",
       "      <th>6</th>\n",
       "      <td>падел240816</td>\n",
       "      <td>2024-08-13 11:29:00</td>\n",
       "      <td>-6000.0</td>\n",
       "      <td>Sport</td>\n",
       "      <td>Padel</td>\n",
       "      <td>t-bank (main)</td>\n",
       "    </tr>\n",
       "    <tr>\n",
       "      <th>7</th>\n",
       "      <td>падел_241004</td>\n",
       "      <td>2024-10-04 15:46:00</td>\n",
       "      <td>-800.0</td>\n",
       "      <td>Sport</td>\n",
       "      <td>Padel</td>\n",
       "      <td>t-bank (main)</td>\n",
       "    </tr>\n",
       "    <tr>\n",
       "      <th>8</th>\n",
       "      <td>падел_241022</td>\n",
       "      <td>2024-10-22 11:14:00</td>\n",
       "      <td>-3400.0</td>\n",
       "      <td>Sport</td>\n",
       "      <td>Padel</td>\n",
       "      <td>t-bank (main)</td>\n",
       "    </tr>\n",
       "    <tr>\n",
       "      <th>9</th>\n",
       "      <td>подарок на годовщину2024</td>\n",
       "      <td>2024-07-21 16:21:00</td>\n",
       "      <td>15000.0</td>\n",
       "      <td>Debt</td>\n",
       "      <td>Other</td>\n",
       "      <td>t-bank (main)</td>\n",
       "    </tr>\n",
       "    <tr>\n",
       "      <th>10</th>\n",
       "      <td>раки_240919</td>\n",
       "      <td>2024-09-19 21:55:00</td>\n",
       "      <td>-5480.0</td>\n",
       "      <td>Entertainment</td>\n",
       "      <td>Restaurants</td>\n",
       "      <td>t-bank (main)</td>\n",
       "    </tr>\n",
       "    <tr>\n",
       "      <th>11</th>\n",
       "      <td>рестик_241010</td>\n",
       "      <td>2024-10-10 19:34:00</td>\n",
       "      <td>-300.0</td>\n",
       "      <td>Entertainment</td>\n",
       "      <td>Restaurants</td>\n",
       "      <td>t-bank (main)</td>\n",
       "    </tr>\n",
       "  </tbody>\n",
       "</table>\n",
       "</div>"
      ],
      "text/plain": [
       "                        Долг                  dt  trans_rub      Категория   \n",
       "0               Padel_240903 2024-08-28 10:55:00    -1500.0          Sport  \\\n",
       "1               egg_s 240925 2024-09-25 11:03:00    -1540.0  Entertainment   \n",
       "2               костюм в яки 2024-10-15 17:58:00   -12500.0          Other   \n",
       "3           кэш_алене 240913 2024-09-13 20:06:00        0.0       Transfer   \n",
       "4               мак к зубрам 2024-10-19 13:54:00    -2554.0  Entertainment   \n",
       "5          падел фили 240807 2024-08-05 17:02:00    -2975.0          Sport   \n",
       "6                падел240816 2024-08-13 11:29:00    -6000.0          Sport   \n",
       "7               падел_241004 2024-10-04 15:46:00     -800.0          Sport   \n",
       "8               падел_241022 2024-10-22 11:14:00    -3400.0          Sport   \n",
       "9   подарок на годовщину2024 2024-07-21 16:21:00    15000.0           Debt   \n",
       "10               раки_240919 2024-09-19 21:55:00    -5480.0  Entertainment   \n",
       "11             рестик_241010 2024-10-10 19:34:00     -300.0  Entertainment   \n",
       "\n",
       "   Подкатегория        account  \n",
       "0         Padel  t-bank (main)  \n",
       "1   Restaurants  t-bank (main)  \n",
       "2         Other  t-bank (main)  \n",
       "3          Debt  t-bank (main)  \n",
       "4   Restaurants  t-bank (main)  \n",
       "5         Padel  t-bank (main)  \n",
       "6         Padel  t-bank (main)  \n",
       "7         Padel  t-bank (main)  \n",
       "8         Padel  t-bank (main)  \n",
       "9         Other  t-bank (main)  \n",
       "10  Restaurants  t-bank (main)  \n",
       "11  Restaurants  t-bank (main)  "
      ]
     },
     "execution_count": 147,
     "metadata": {},
     "output_type": "execute_result"
    }
   ],
   "source": [
    "trans_df_debt"
   ]
  },
  {
   "cell_type": "code",
   "execution_count": 148,
   "metadata": {},
   "outputs": [],
   "source": [
    "trans_df_debt_free = pd.concat((trans_df_debt, trans_df_no_debt))"
   ]
  },
  {
   "cell_type": "markdown",
   "metadata": {},
   "source": [
    "### 1.3 Фильтруем только транзакции для отчета"
   ]
  },
  {
   "cell_type": "code",
   "execution_count": 149,
   "metadata": {},
   "outputs": [
    {
     "name": "stderr",
     "output_type": "stream",
     "text": [
      "/var/folders/n9/7qzl9sfj3_n9hmnht95_9jy80000gn/T/ipykernel_3547/2815616887.py:7: SettingWithCopyWarning:\n",
      "\n",
      "\n",
      "A value is trying to be set on a copy of a slice from a DataFrame.\n",
      "Try using .loc[row_indexer,col_indexer] = value instead\n",
      "\n",
      "See the caveats in the documentation: https://pandas.pydata.org/pandas-docs/stable/user_guide/indexing.html#returning-a-view-versus-a-copy\n",
      "\n"
     ]
    }
   ],
   "source": [
    "exp_mask = (trans_df_debt_free['trans_rub'] < 0) & (trans_df_debt_free['account'].isin(transaction_lists) & \\\n",
    "                                                    (trans_df_debt_free['Категория'] != \"Transfer\") & \\\n",
    "                                                    (trans_df_debt_free['Подкатегория'] != \"Internal\"))\n",
    "inc_mask = (trans_df_debt_free['trans_rub'] > 0)\n",
    "\n",
    "exp_df = trans_df_debt_free.loc[exp_mask]\n",
    "exp_df['trans_rub'] = exp_df['trans_rub'].abs()"
   ]
  },
  {
   "cell_type": "code",
   "execution_count": 150,
   "metadata": {},
   "outputs": [],
   "source": [
    "months_dict = {key: value for key,value in zip(np.arange(1, 13), [\"январь\", \"февраль\", \"март\", \"апрель\", \"май\", \"июнь\", \n",
    "                                                                    \"июль\", \"август\", \"сентябрь\", \"октябрь\", \"ноябрь\", \"декабрь\"])}"
   ]
  },
  {
   "cell_type": "code",
   "execution_count": 151,
   "metadata": {},
   "outputs": [
    {
     "data": {
      "text/plain": [
       "{1: 'январь',\n",
       " 2: 'февраль',\n",
       " 3: 'март',\n",
       " 4: 'апрель',\n",
       " 5: 'май',\n",
       " 6: 'июнь',\n",
       " 7: 'июль',\n",
       " 8: 'август',\n",
       " 9: 'сентябрь',\n",
       " 10: 'октябрь',\n",
       " 11: 'ноябрь',\n",
       " 12: 'декабрь'}"
      ]
     },
     "execution_count": 151,
     "metadata": {},
     "output_type": "execute_result"
    }
   ],
   "source": [
    "months_dict"
   ]
  },
  {
   "cell_type": "markdown",
   "metadata": {},
   "source": [
    "# Пончик трат по категориям"
   ]
  },
  {
   "cell_type": "code",
   "execution_count": 152,
   "metadata": {},
   "outputs": [],
   "source": [
    "month = 9"
   ]
  },
  {
   "cell_type": "code",
   "execution_count": 153,
   "metadata": {},
   "outputs": [],
   "source": [
    "df_vis = exp_df.loc[exp_df['dt'].dt.month == month]"
   ]
  },
  {
   "cell_type": "code",
   "execution_count": null,
   "metadata": {},
   "outputs": [],
   "source": []
  },
  {
   "cell_type": "code",
   "execution_count": null,
   "metadata": {},
   "outputs": [],
   "source": []
  },
  {
   "cell_type": "code",
   "execution_count": 35,
   "metadata": {},
   "outputs": [
    {
     "data": {
      "application/vnd.jupyter.widget-view+json": {
       "model_id": "b3aaf949e6cc45f5b96e56b0881f7e3f",
       "version_major": 2,
       "version_minor": 0
      },
      "text/plain": [
       "Output()"
      ]
     },
     "execution_count": 35,
     "metadata": {},
     "output_type": "execute_result"
    }
   ],
   "source": [
    "import pandas as pd\n",
    "import plotly.graph_objects as go\n",
    "from ipywidgets import Output\n",
    "\n",
    "# Sample data creation (you can replace this with your actual DataFrame)\n",
    "data = {\n",
    "    \"date\": [\"2023-01-01 10:00:00\", \"2023-01-01 11:00:00\", \"2023-01-02 12:00:00\", \"2023-01-03 13:00:00\"],\n",
    "    \"money_spent\": [100, 150, 200, 50],\n",
    "    \"category\": [\"Food\", \"Entertainment\", \"Food\", \"Utilities\"],\n",
    "    \"subcategory\": [\"Groceries\", \"Movies\", \"Restaurants\", \"Electricity\"]\n",
    "}\n",
    "df = pd.DataFrame(data)\n",
    "\n",
    "# Output widget for displaying interactive figures\n",
    "output = Output()\n",
    "\n",
    "# Function to generate category pie chart\n",
    "def create_category_pie():\n",
    "    category_data = df.groupby('category')['money_spent'].sum().reset_index()\n",
    "    \n",
    "    fig = go.FigureWidget(go.Pie(\n",
    "        labels=category_data['category'],\n",
    "        values=category_data['money_spent'],\n",
    "        hole=0.3\n",
    "    ))\n",
    "\n",
    "    fig.update_layout(title=\"Transaction Distribution by Category\")\n",
    "    \n",
    "    # Click event for category pie\n",
    "    fig.data[0].on_click(on_category_click)\n",
    "    with output:\n",
    "        output.clear_output(wait=True)\n",
    "        display(fig)\n",
    "\n",
    "# Function to generate subcategory pie chart based on selected category\n",
    "def create_subcategory_pie(selected_category):\n",
    "    subcategory_data = df[df['category'] == selected_category].groupby('subcategory')['money_spent'].sum().reset_index()\n",
    "\n",
    "    fig = go.FigureWidget(go.Pie(\n",
    "        labels=subcategory_data['subcategory'],\n",
    "        values=subcategory_data['money_spent'],\n",
    "        hole=0.3\n",
    "    ))\n",
    "\n",
    "    fig.update_layout(title=f\"Transaction Distribution in {selected_category} by Subcategory\")\n",
    "    \n",
    "    # Click event to go back to main category pie\n",
    "    fig.data[0].on_click(on_subcategory_click)\n",
    "    with output:\n",
    "        output.clear_output(wait=True)\n",
    "        display(fig)\n",
    "\n",
    "# Event handler when a category slice is clicked\n",
    "def on_category_click(trace, points, state):\n",
    "    selected_category = trace.labels[points.point_inds[0]]\n",
    "    create_subcategory_pie(selected_category)\n",
    "\n",
    "# Event handler to go back to category view\n",
    "def on_subcategory_click(trace, points, state):\n",
    "    create_category_pie()\n",
    "\n",
    "# Display the initial category pie chart\n",
    "create_category_pie()\n",
    "output\n"
   ]
  },
  {
   "cell_type": "code",
   "execution_count": 34,
   "metadata": {},
   "outputs": [
    {
     "data": {
      "application/vnd.plotly.v1+json": {
       "config": {
        "plotlyServerURL": "https://plot.ly"
       },
       "data": [
        {
         "hole": 0.3,
         "hoverinfo": "label+percent",
         "labels": [
          "Entertainment",
          "Food",
          "Transport"
         ],
         "textfont": {
          "size": 15
         },
         "textinfo": "label+percent",
         "type": "pie",
         "values": [
          130,
          410,
          270
         ]
        }
       ],
       "layout": {
        "template": {
         "data": {
          "bar": [
           {
            "error_x": {
             "color": "#2a3f5f"
            },
            "error_y": {
             "color": "#2a3f5f"
            },
            "marker": {
             "line": {
              "color": "#E5ECF6",
              "width": 0.5
             },
             "pattern": {
              "fillmode": "overlay",
              "size": 10,
              "solidity": 0.2
             }
            },
            "type": "bar"
           }
          ],
          "barpolar": [
           {
            "marker": {
             "line": {
              "color": "#E5ECF6",
              "width": 0.5
             },
             "pattern": {
              "fillmode": "overlay",
              "size": 10,
              "solidity": 0.2
             }
            },
            "type": "barpolar"
           }
          ],
          "carpet": [
           {
            "aaxis": {
             "endlinecolor": "#2a3f5f",
             "gridcolor": "white",
             "linecolor": "white",
             "minorgridcolor": "white",
             "startlinecolor": "#2a3f5f"
            },
            "baxis": {
             "endlinecolor": "#2a3f5f",
             "gridcolor": "white",
             "linecolor": "white",
             "minorgridcolor": "white",
             "startlinecolor": "#2a3f5f"
            },
            "type": "carpet"
           }
          ],
          "choropleth": [
           {
            "colorbar": {
             "outlinewidth": 0,
             "ticks": ""
            },
            "type": "choropleth"
           }
          ],
          "contour": [
           {
            "colorbar": {
             "outlinewidth": 0,
             "ticks": ""
            },
            "colorscale": [
             [
              0,
              "#0d0887"
             ],
             [
              0.1111111111111111,
              "#46039f"
             ],
             [
              0.2222222222222222,
              "#7201a8"
             ],
             [
              0.3333333333333333,
              "#9c179e"
             ],
             [
              0.4444444444444444,
              "#bd3786"
             ],
             [
              0.5555555555555556,
              "#d8576b"
             ],
             [
              0.6666666666666666,
              "#ed7953"
             ],
             [
              0.7777777777777778,
              "#fb9f3a"
             ],
             [
              0.8888888888888888,
              "#fdca26"
             ],
             [
              1,
              "#f0f921"
             ]
            ],
            "type": "contour"
           }
          ],
          "contourcarpet": [
           {
            "colorbar": {
             "outlinewidth": 0,
             "ticks": ""
            },
            "type": "contourcarpet"
           }
          ],
          "heatmap": [
           {
            "colorbar": {
             "outlinewidth": 0,
             "ticks": ""
            },
            "colorscale": [
             [
              0,
              "#0d0887"
             ],
             [
              0.1111111111111111,
              "#46039f"
             ],
             [
              0.2222222222222222,
              "#7201a8"
             ],
             [
              0.3333333333333333,
              "#9c179e"
             ],
             [
              0.4444444444444444,
              "#bd3786"
             ],
             [
              0.5555555555555556,
              "#d8576b"
             ],
             [
              0.6666666666666666,
              "#ed7953"
             ],
             [
              0.7777777777777778,
              "#fb9f3a"
             ],
             [
              0.8888888888888888,
              "#fdca26"
             ],
             [
              1,
              "#f0f921"
             ]
            ],
            "type": "heatmap"
           }
          ],
          "heatmapgl": [
           {
            "colorbar": {
             "outlinewidth": 0,
             "ticks": ""
            },
            "colorscale": [
             [
              0,
              "#0d0887"
             ],
             [
              0.1111111111111111,
              "#46039f"
             ],
             [
              0.2222222222222222,
              "#7201a8"
             ],
             [
              0.3333333333333333,
              "#9c179e"
             ],
             [
              0.4444444444444444,
              "#bd3786"
             ],
             [
              0.5555555555555556,
              "#d8576b"
             ],
             [
              0.6666666666666666,
              "#ed7953"
             ],
             [
              0.7777777777777778,
              "#fb9f3a"
             ],
             [
              0.8888888888888888,
              "#fdca26"
             ],
             [
              1,
              "#f0f921"
             ]
            ],
            "type": "heatmapgl"
           }
          ],
          "histogram": [
           {
            "marker": {
             "pattern": {
              "fillmode": "overlay",
              "size": 10,
              "solidity": 0.2
             }
            },
            "type": "histogram"
           }
          ],
          "histogram2d": [
           {
            "colorbar": {
             "outlinewidth": 0,
             "ticks": ""
            },
            "colorscale": [
             [
              0,
              "#0d0887"
             ],
             [
              0.1111111111111111,
              "#46039f"
             ],
             [
              0.2222222222222222,
              "#7201a8"
             ],
             [
              0.3333333333333333,
              "#9c179e"
             ],
             [
              0.4444444444444444,
              "#bd3786"
             ],
             [
              0.5555555555555556,
              "#d8576b"
             ],
             [
              0.6666666666666666,
              "#ed7953"
             ],
             [
              0.7777777777777778,
              "#fb9f3a"
             ],
             [
              0.8888888888888888,
              "#fdca26"
             ],
             [
              1,
              "#f0f921"
             ]
            ],
            "type": "histogram2d"
           }
          ],
          "histogram2dcontour": [
           {
            "colorbar": {
             "outlinewidth": 0,
             "ticks": ""
            },
            "colorscale": [
             [
              0,
              "#0d0887"
             ],
             [
              0.1111111111111111,
              "#46039f"
             ],
             [
              0.2222222222222222,
              "#7201a8"
             ],
             [
              0.3333333333333333,
              "#9c179e"
             ],
             [
              0.4444444444444444,
              "#bd3786"
             ],
             [
              0.5555555555555556,
              "#d8576b"
             ],
             [
              0.6666666666666666,
              "#ed7953"
             ],
             [
              0.7777777777777778,
              "#fb9f3a"
             ],
             [
              0.8888888888888888,
              "#fdca26"
             ],
             [
              1,
              "#f0f921"
             ]
            ],
            "type": "histogram2dcontour"
           }
          ],
          "mesh3d": [
           {
            "colorbar": {
             "outlinewidth": 0,
             "ticks": ""
            },
            "type": "mesh3d"
           }
          ],
          "parcoords": [
           {
            "line": {
             "colorbar": {
              "outlinewidth": 0,
              "ticks": ""
             }
            },
            "type": "parcoords"
           }
          ],
          "pie": [
           {
            "automargin": true,
            "type": "pie"
           }
          ],
          "scatter": [
           {
            "fillpattern": {
             "fillmode": "overlay",
             "size": 10,
             "solidity": 0.2
            },
            "type": "scatter"
           }
          ],
          "scatter3d": [
           {
            "line": {
             "colorbar": {
              "outlinewidth": 0,
              "ticks": ""
             }
            },
            "marker": {
             "colorbar": {
              "outlinewidth": 0,
              "ticks": ""
             }
            },
            "type": "scatter3d"
           }
          ],
          "scattercarpet": [
           {
            "marker": {
             "colorbar": {
              "outlinewidth": 0,
              "ticks": ""
             }
            },
            "type": "scattercarpet"
           }
          ],
          "scattergeo": [
           {
            "marker": {
             "colorbar": {
              "outlinewidth": 0,
              "ticks": ""
             }
            },
            "type": "scattergeo"
           }
          ],
          "scattergl": [
           {
            "marker": {
             "colorbar": {
              "outlinewidth": 0,
              "ticks": ""
             }
            },
            "type": "scattergl"
           }
          ],
          "scattermapbox": [
           {
            "marker": {
             "colorbar": {
              "outlinewidth": 0,
              "ticks": ""
             }
            },
            "type": "scattermapbox"
           }
          ],
          "scatterpolar": [
           {
            "marker": {
             "colorbar": {
              "outlinewidth": 0,
              "ticks": ""
             }
            },
            "type": "scatterpolar"
           }
          ],
          "scatterpolargl": [
           {
            "marker": {
             "colorbar": {
              "outlinewidth": 0,
              "ticks": ""
             }
            },
            "type": "scatterpolargl"
           }
          ],
          "scatterternary": [
           {
            "marker": {
             "colorbar": {
              "outlinewidth": 0,
              "ticks": ""
             }
            },
            "type": "scatterternary"
           }
          ],
          "surface": [
           {
            "colorbar": {
             "outlinewidth": 0,
             "ticks": ""
            },
            "colorscale": [
             [
              0,
              "#0d0887"
             ],
             [
              0.1111111111111111,
              "#46039f"
             ],
             [
              0.2222222222222222,
              "#7201a8"
             ],
             [
              0.3333333333333333,
              "#9c179e"
             ],
             [
              0.4444444444444444,
              "#bd3786"
             ],
             [
              0.5555555555555556,
              "#d8576b"
             ],
             [
              0.6666666666666666,
              "#ed7953"
             ],
             [
              0.7777777777777778,
              "#fb9f3a"
             ],
             [
              0.8888888888888888,
              "#fdca26"
             ],
             [
              1,
              "#f0f921"
             ]
            ],
            "type": "surface"
           }
          ],
          "table": [
           {
            "cells": {
             "fill": {
              "color": "#EBF0F8"
             },
             "line": {
              "color": "white"
             }
            },
            "header": {
             "fill": {
              "color": "#C8D4E3"
             },
             "line": {
              "color": "white"
             }
            },
            "type": "table"
           }
          ]
         },
         "layout": {
          "annotationdefaults": {
           "arrowcolor": "#2a3f5f",
           "arrowhead": 0,
           "arrowwidth": 1
          },
          "autotypenumbers": "strict",
          "coloraxis": {
           "colorbar": {
            "outlinewidth": 0,
            "ticks": ""
           }
          },
          "colorscale": {
           "diverging": [
            [
             0,
             "#8e0152"
            ],
            [
             0.1,
             "#c51b7d"
            ],
            [
             0.2,
             "#de77ae"
            ],
            [
             0.3,
             "#f1b6da"
            ],
            [
             0.4,
             "#fde0ef"
            ],
            [
             0.5,
             "#f7f7f7"
            ],
            [
             0.6,
             "#e6f5d0"
            ],
            [
             0.7,
             "#b8e186"
            ],
            [
             0.8,
             "#7fbc41"
            ],
            [
             0.9,
             "#4d9221"
            ],
            [
             1,
             "#276419"
            ]
           ],
           "sequential": [
            [
             0,
             "#0d0887"
            ],
            [
             0.1111111111111111,
             "#46039f"
            ],
            [
             0.2222222222222222,
             "#7201a8"
            ],
            [
             0.3333333333333333,
             "#9c179e"
            ],
            [
             0.4444444444444444,
             "#bd3786"
            ],
            [
             0.5555555555555556,
             "#d8576b"
            ],
            [
             0.6666666666666666,
             "#ed7953"
            ],
            [
             0.7777777777777778,
             "#fb9f3a"
            ],
            [
             0.8888888888888888,
             "#fdca26"
            ],
            [
             1,
             "#f0f921"
            ]
           ],
           "sequentialminus": [
            [
             0,
             "#0d0887"
            ],
            [
             0.1111111111111111,
             "#46039f"
            ],
            [
             0.2222222222222222,
             "#7201a8"
            ],
            [
             0.3333333333333333,
             "#9c179e"
            ],
            [
             0.4444444444444444,
             "#bd3786"
            ],
            [
             0.5555555555555556,
             "#d8576b"
            ],
            [
             0.6666666666666666,
             "#ed7953"
            ],
            [
             0.7777777777777778,
             "#fb9f3a"
            ],
            [
             0.8888888888888888,
             "#fdca26"
            ],
            [
             1,
             "#f0f921"
            ]
           ]
          },
          "colorway": [
           "#636efa",
           "#EF553B",
           "#00cc96",
           "#ab63fa",
           "#FFA15A",
           "#19d3f3",
           "#FF6692",
           "#B6E880",
           "#FF97FF",
           "#FECB52"
          ],
          "font": {
           "color": "#2a3f5f"
          },
          "geo": {
           "bgcolor": "white",
           "lakecolor": "white",
           "landcolor": "#E5ECF6",
           "showlakes": true,
           "showland": true,
           "subunitcolor": "white"
          },
          "hoverlabel": {
           "align": "left"
          },
          "hovermode": "closest",
          "mapbox": {
           "style": "light"
          },
          "paper_bgcolor": "white",
          "plot_bgcolor": "#E5ECF6",
          "polar": {
           "angularaxis": {
            "gridcolor": "white",
            "linecolor": "white",
            "ticks": ""
           },
           "bgcolor": "#E5ECF6",
           "radialaxis": {
            "gridcolor": "white",
            "linecolor": "white",
            "ticks": ""
           }
          },
          "scene": {
           "xaxis": {
            "backgroundcolor": "#E5ECF6",
            "gridcolor": "white",
            "gridwidth": 2,
            "linecolor": "white",
            "showbackground": true,
            "ticks": "",
            "zerolinecolor": "white"
           },
           "yaxis": {
            "backgroundcolor": "#E5ECF6",
            "gridcolor": "white",
            "gridwidth": 2,
            "linecolor": "white",
            "showbackground": true,
            "ticks": "",
            "zerolinecolor": "white"
           },
           "zaxis": {
            "backgroundcolor": "#E5ECF6",
            "gridcolor": "white",
            "gridwidth": 2,
            "linecolor": "white",
            "showbackground": true,
            "ticks": "",
            "zerolinecolor": "white"
           }
          },
          "shapedefaults": {
           "line": {
            "color": "#2a3f5f"
           }
          },
          "ternary": {
           "aaxis": {
            "gridcolor": "white",
            "linecolor": "white",
            "ticks": ""
           },
           "baxis": {
            "gridcolor": "white",
            "linecolor": "white",
            "ticks": ""
           },
           "bgcolor": "#E5ECF6",
           "caxis": {
            "gridcolor": "white",
            "linecolor": "white",
            "ticks": ""
           }
          },
          "title": {
           "x": 0.05
          },
          "xaxis": {
           "automargin": true,
           "gridcolor": "white",
           "linecolor": "white",
           "ticks": "",
           "title": {
            "standoff": 15
           },
           "zerolinecolor": "white",
           "zerolinewidth": 2
          },
          "yaxis": {
           "automargin": true,
           "gridcolor": "white",
           "linecolor": "white",
           "ticks": "",
           "title": {
            "standoff": 15
           },
           "zerolinecolor": "white",
           "zerolinewidth": 2
          }
         }
        },
        "title": {
         "text": "Transaction Distribution by Category"
        }
       }
      }
     },
     "metadata": {},
     "output_type": "display_data"
    }
   ],
   "source": [
    "import plotly.graph_objects as go\n",
    "import pandas as pd\n",
    "\n",
    "# Sample data frame\n",
    "data = {\n",
    "    'date_time': ['2024-01-01 10:00:00', '2024-01-01 11:00:00', '2024-01-02 12:00:00',\n",
    "                  '2024-01-02 13:00:00', '2024-01-03 14:00:00', '2024-01-03 15:00:00'],\n",
    "    'amount': [100, 150, 200, 130, 120, 110],\n",
    "    'category': ['Food', 'Transport', 'Food', 'Entertainment', 'Transport', 'Food'],\n",
    "    'subcategory': ['Groceries', 'Bus', 'Dining Out', 'Movies', 'Train', 'Dining Out']\n",
    "}\n",
    "\n",
    "df = pd.DataFrame(data)\n",
    "\n",
    "# Function to plot the main category pie chart\n",
    "def plot_category_pie(df):\n",
    "    # Grouping data by category\n",
    "    category_data = df.groupby('category').sum()['amount']\n",
    "    \n",
    "    # Creating the pie chart\n",
    "    fig = go.Figure(data=[go.Pie(labels=category_data.index, values=category_data.values, \n",
    "                                 hole=0.3)])\n",
    "\n",
    "    fig.update_traces(hoverinfo='label+percent', textinfo='label+percent', \n",
    "                      textfont_size=15)\n",
    "\n",
    "    # Adding callback function for click event\n",
    "    fig.update_layout(title_text=\"Transaction Distribution by Category\")\n",
    "    fig.data[0].on_click(lambda trace, points, state: plot_subcategory_pie(df, points))\n",
    "\n",
    "    return fig\n",
    "\n",
    "# Function to plot the subcategory pie chart\n",
    "def plot_subcategory_pie(df, points):\n",
    "    category_selected = points.point_inds[0]\n",
    "    category_name = df['category'].unique()[category_selected]\n",
    "    \n",
    "    # Filter data based on selected category\n",
    "    subcategory_data = df[df['category'] == category_name].groupby('subcategory').sum()['amount']\n",
    "\n",
    "    # Creating the pie chart\n",
    "    fig = go.Figure(data=[go.Pie(labels=subcategory_data.index, values=subcategory_data.values, \n",
    "                                 hole=0.3)])\n",
    "    \n",
    "    fig.update_traces(hoverinfo='label+percent', textinfo='label+percent', \n",
    "                      textfont_size=15,\n",
    "                      pull=[0.1 if subcategory_data.index[i] == 'Dining Out' else 0 for i in range(len(subcategory_data))])\n",
    "    \n",
    "    # Adding callback function for click event\n",
    "    fig.update_layout(title_text=f\"Transaction Distribution for {category_name} by Subcategory\")\n",
    "    fig.data[0].on_click(lambda trace, points, state: plot_category_pie(df))\n",
    "    \n",
    "    fig.show()\n",
    "\n",
    "# Plotting the initial pie chart\n",
    "fig = plot_category_pie(df)\n",
    "fig.show()\n"
   ]
  },
  {
   "cell_type": "code",
   "execution_count": 37,
   "metadata": {},
   "outputs": [
    {
     "data": {
      "application/vnd.jupyter.widget-view+json": {
       "model_id": "dbdb90d809aa42c2b74bce6c45098f95",
       "version_major": 2,
       "version_minor": 0
      },
      "text/plain": [
       "Output()"
      ]
     },
     "execution_count": 37,
     "metadata": {},
     "output_type": "execute_result"
    }
   ],
   "source": [
    "import pandas as pd\n",
    "import plotly.graph_objects as go\n",
    "from ipywidgets import Output\n",
    "\n",
    "# Sample data (you can replace this with your actual DataFrame)\n",
    "data = {\n",
    "    \"date\": [\"2023-01-01 10:00:00\", \"2023-01-01 11:00:00\", \"2023-01-02 12:00:00\", \"2023-01-03 13:00:00\"],\n",
    "    \"money_spent\": [100, 150, 200, 50],\n",
    "    \"category\": [\"Food\", \"Entertainment\", \"Food\", \"Utilities\"],\n",
    "    \"subcategory\": [\"Groceries\", \"Movies\", \"Restaurants\", \"Electricity\"]\n",
    "}\n",
    "df = pd.DataFrame(data)\n",
    "\n",
    "# Output widget for displaying interactive figures\n",
    "output = Output()\n",
    "\n",
    "# Function to generate category waterfall chart\n",
    "def create_category_waterfall():\n",
    "    category_data = df.groupby('category')['money_spent'].sum().reset_index()\n",
    "    \n",
    "    fig = go.FigureWidget(go.Waterfall(\n",
    "        x=category_data['category'],\n",
    "        y=category_data['money_spent'],\n",
    "        connector=dict(line=dict(color=\"black\", dash=\"dot\"))\n",
    "    ))\n",
    "\n",
    "    fig.update_layout(title=\"Transaction Distribution by Category (Waterfall Chart)\")\n",
    "    \n",
    "    # Click event for category waterfall\n",
    "    fig.data[0].on_click(on_category_click)\n",
    "    with output:\n",
    "        output.clear_output(wait=True)\n",
    "        display(fig)\n",
    "\n",
    "# Function to generate subcategory waterfall chart based on selected category\n",
    "def create_subcategory_waterfall(selected_category):\n",
    "    subcategory_data = df[df['category'] == selected_category].groupby('subcategory')['money_spent'].sum().reset_index()\n",
    "\n",
    "    fig = go.FigureWidget(go.Waterfall(\n",
    "        x=subcategory_data['subcategory'],\n",
    "        y=subcategory_data['money_spent'],\n",
    "        connector=dict(line=dict(color=\"black\", dash=\"dot\"))\n",
    "    ))\n",
    "\n",
    "    fig.update_layout(title=f\"Transaction Distribution in {selected_category} by Subcategory (Waterfall Chart)\")\n",
    "    \n",
    "    # Click event to go back to main category waterfall\n",
    "    fig.data[0].on_click(on_subcategory_click)\n",
    "    with output:\n",
    "        output.clear_output(wait=True)\n",
    "        display(fig)\n",
    "\n",
    "# Event handler when a category bar is clicked\n",
    "def on_category_click(trace, points, state):\n",
    "    selected_category = trace.x[points.point_inds[0]]\n",
    "    create_subcategory_waterfall(selected_category)\n",
    "\n",
    "# Event handler to go back to category view\n",
    "def on_subcategory_click(trace, points, state):\n",
    "    create_category_waterfall()\n",
    "\n",
    "# Display the initial category waterfall chart\n",
    "create_category_waterfall()\n",
    "output\n"
   ]
  },
  {
   "cell_type": "code",
   "execution_count": null,
   "metadata": {},
   "outputs": [],
   "source": []
  },
  {
   "cell_type": "code",
   "execution_count": 38,
   "metadata": {},
   "outputs": [
    {
     "data": {
      "text/html": [
       "<div>\n",
       "<style scoped>\n",
       "    .dataframe tbody tr th:only-of-type {\n",
       "        vertical-align: middle;\n",
       "    }\n",
       "\n",
       "    .dataframe tbody tr th {\n",
       "        vertical-align: top;\n",
       "    }\n",
       "\n",
       "    .dataframe thead th {\n",
       "        text-align: right;\n",
       "    }\n",
       "</style>\n",
       "<table border=\"1\" class=\"dataframe\">\n",
       "  <thead>\n",
       "    <tr style=\"text-align: right;\">\n",
       "      <th></th>\n",
       "      <th>dt</th>\n",
       "      <th>trans_rub</th>\n",
       "      <th>Категория</th>\n",
       "      <th>Подкатегория</th>\n",
       "      <th>Долг</th>\n",
       "      <th>account</th>\n",
       "    </tr>\n",
       "  </thead>\n",
       "  <tbody>\n",
       "    <tr>\n",
       "      <th>168</th>\n",
       "      <td>2024-09-30 23:50:00</td>\n",
       "      <td>362.01</td>\n",
       "      <td>Transportation</td>\n",
       "      <td>Carsharing</td>\n",
       "      <td>None</td>\n",
       "      <td>t-bank (main)</td>\n",
       "    </tr>\n",
       "    <tr>\n",
       "      <th>169</th>\n",
       "      <td>2024-09-30 20:01:00</td>\n",
       "      <td>2983.00</td>\n",
       "      <td>Food &amp; Dining</td>\n",
       "      <td>Delivery</td>\n",
       "      <td>None</td>\n",
       "      <td>t-bank (main)</td>\n",
       "    </tr>\n",
       "    <tr>\n",
       "      <th>170</th>\n",
       "      <td>2024-09-30 19:00:00</td>\n",
       "      <td>989.00</td>\n",
       "      <td>Other</td>\n",
       "      <td>None</td>\n",
       "      <td>None</td>\n",
       "      <td>t-bank (main)</td>\n",
       "    </tr>\n",
       "    <tr>\n",
       "      <th>172</th>\n",
       "      <td>2024-09-29 20:40:00</td>\n",
       "      <td>123.21</td>\n",
       "      <td>Transportation</td>\n",
       "      <td>Carsharing</td>\n",
       "      <td>None</td>\n",
       "      <td>t-bank (main)</td>\n",
       "    </tr>\n",
       "    <tr>\n",
       "      <th>173</th>\n",
       "      <td>2024-09-29 19:01:00</td>\n",
       "      <td>2261.00</td>\n",
       "      <td>Entertainment</td>\n",
       "      <td>Restaurants</td>\n",
       "      <td>None</td>\n",
       "      <td>t-bank (main)</td>\n",
       "    </tr>\n",
       "    <tr>\n",
       "      <th>...</th>\n",
       "      <td>...</td>\n",
       "      <td>...</td>\n",
       "      <td>...</td>\n",
       "      <td>...</td>\n",
       "      <td>...</td>\n",
       "      <td>...</td>\n",
       "    </tr>\n",
       "    <tr>\n",
       "      <th>335</th>\n",
       "      <td>2024-09-01 19:32:00</td>\n",
       "      <td>7480.00</td>\n",
       "      <td>Entertainment</td>\n",
       "      <td>Restaurants</td>\n",
       "      <td>None</td>\n",
       "      <td>t-bank (main)</td>\n",
       "    </tr>\n",
       "    <tr>\n",
       "      <th>336</th>\n",
       "      <td>2024-09-01 17:57:00</td>\n",
       "      <td>730.59</td>\n",
       "      <td>Transportation</td>\n",
       "      <td>Carsharing</td>\n",
       "      <td>None</td>\n",
       "      <td>t-bank (main)</td>\n",
       "    </tr>\n",
       "    <tr>\n",
       "      <th>337</th>\n",
       "      <td>2024-09-01 17:21:00</td>\n",
       "      <td>3564.00</td>\n",
       "      <td>Shopping</td>\n",
       "      <td>Gifts</td>\n",
       "      <td>None</td>\n",
       "      <td>t-bank (main)</td>\n",
       "    </tr>\n",
       "    <tr>\n",
       "      <th>338</th>\n",
       "      <td>2024-09-01 12:54:00</td>\n",
       "      <td>100.00</td>\n",
       "      <td>Personal</td>\n",
       "      <td>Subscriptions</td>\n",
       "      <td>None</td>\n",
       "      <td>t-bank (main)</td>\n",
       "    </tr>\n",
       "    <tr>\n",
       "      <th>339</th>\n",
       "      <td>2024-09-01 12:53:00</td>\n",
       "      <td>740.00</td>\n",
       "      <td>Personal</td>\n",
       "      <td>Subscriptions</td>\n",
       "      <td>None</td>\n",
       "      <td>t-bank (main)</td>\n",
       "    </tr>\n",
       "  </tbody>\n",
       "</table>\n",
       "<p>152 rows × 6 columns</p>\n",
       "</div>"
      ],
      "text/plain": [
       "                     dt  trans_rub       Категория   Подкатегория  Долг   \n",
       "168 2024-09-30 23:50:00     362.01  Transportation     Carsharing  None  \\\n",
       "169 2024-09-30 20:01:00    2983.00   Food & Dining       Delivery  None   \n",
       "170 2024-09-30 19:00:00     989.00           Other           None  None   \n",
       "172 2024-09-29 20:40:00     123.21  Transportation     Carsharing  None   \n",
       "173 2024-09-29 19:01:00    2261.00   Entertainment    Restaurants  None   \n",
       "..                  ...        ...             ...            ...   ...   \n",
       "335 2024-09-01 19:32:00    7480.00   Entertainment    Restaurants  None   \n",
       "336 2024-09-01 17:57:00     730.59  Transportation     Carsharing  None   \n",
       "337 2024-09-01 17:21:00    3564.00        Shopping          Gifts  None   \n",
       "338 2024-09-01 12:54:00     100.00        Personal  Subscriptions  None   \n",
       "339 2024-09-01 12:53:00     740.00        Personal  Subscriptions  None   \n",
       "\n",
       "           account  \n",
       "168  t-bank (main)  \n",
       "169  t-bank (main)  \n",
       "170  t-bank (main)  \n",
       "172  t-bank (main)  \n",
       "173  t-bank (main)  \n",
       "..             ...  \n",
       "335  t-bank (main)  \n",
       "336  t-bank (main)  \n",
       "337  t-bank (main)  \n",
       "338  t-bank (main)  \n",
       "339  t-bank (main)  \n",
       "\n",
       "[152 rows x 6 columns]"
      ]
     },
     "execution_count": 38,
     "metadata": {},
     "output_type": "execute_result"
    }
   ],
   "source": [
    "df_vis"
   ]
  },
  {
   "cell_type": "code",
   "execution_count": 18,
   "metadata": {},
   "outputs": [
    {
     "data": {
      "application/vnd.plotly.v1+json": {
       "config": {
        "plotlyServerURL": "https://plot.ly"
       },
       "data": [
        {
         "domain": {
          "x": [
           0,
           1
          ],
          "y": [
           0,
           1
          ]
         },
         "hovertemplate": "Категория=%{label}<br>trans_rub=%{value}<extra></extra>",
         "labels": [
          "Transportation",
          "Food & Dining",
          "Other",
          "Transportation",
          "Entertainment",
          "Transportation",
          "Vacations",
          "Vacations",
          "Food & Dining",
          "Food & Dining",
          "Health Care",
          "Health Care",
          "Vacations",
          "Vacations",
          "Transportation",
          "Transportation",
          "Food & Dining",
          "Household",
          "Household",
          "Transportation",
          "Transportation",
          "Household",
          "Entertainment",
          "Entertainment",
          "Household",
          "Entertainment",
          "Food & Dining",
          "Entertainment",
          "Entertainment",
          "Transportation",
          "Entertainment",
          "Entertainment",
          "Transportation",
          "Transportation",
          "Transportation",
          "Transportation",
          "Health Care",
          "Entertainment",
          "Entertainment",
          "Transportation",
          "Food & Dining",
          "Entertainment",
          "Entertainment",
          "Household",
          "Entertainment",
          "Household",
          "Food & Dining",
          "Household",
          "Household",
          "Household",
          "Sport",
          "Household",
          "Transportation",
          "Transportation",
          "Transportation",
          "Food & Dining",
          "Entertainment",
          "Food & Dining",
          "Entertainment",
          "Household",
          "Transportation",
          "Food & Dining",
          "Household",
          "Household",
          "Food & Dining",
          "Household",
          "Household",
          "Household",
          "Transportation",
          "Transportation",
          "Entertainment",
          "Transportation",
          "Household",
          "Food & Dining",
          "Entertainment",
          "Transportation",
          "Other",
          "Household",
          "Household",
          "Entertainment",
          "Entertainment",
          "Food & Dining",
          "Transportation",
          "Household",
          "Personal",
          "Transportation",
          "Other",
          "Entertainment",
          "Entertainment",
          "Other",
          "Transportation",
          "Personal",
          "Food & Dining",
          "Health Care",
          "Transportation",
          "Household",
          "Transportation",
          "Health Care",
          "Entertainment",
          "Entertainment",
          "Entertainment",
          "Entertainment",
          "Transportation",
          "Transportation",
          "Transportation",
          "Transportation",
          "Transportation",
          "Transportation",
          "Transportation",
          "Transportation",
          "Entertainment",
          "Transportation",
          "Transportation",
          "Transportation",
          "Food & Dining",
          "Shopping",
          "Entertainment",
          "Transportation",
          "Transportation",
          "Transportation",
          "Transportation",
          "Sport",
          "Sport",
          "Transportation",
          "Transportation",
          "Household",
          "Entertainment",
          "Personal",
          "Transportation",
          "Transportation",
          "Transportation",
          "Transportation",
          "Transportation",
          "Transportation",
          "Household",
          "Shopping",
          "Transportation",
          "Transportation",
          "Household",
          "Household",
          "Food & Dining",
          "Entertainment",
          "Entertainment",
          "Entertainment",
          "Household",
          "Transportation",
          "Entertainment",
          "Entertainment",
          "Transportation",
          "Shopping",
          "Personal",
          "Personal"
         ],
         "legendgroup": "",
         "name": "",
         "showlegend": true,
         "type": "pie",
         "values": [
          362.01,
          2983,
          989,
          123.21,
          2261,
          1682,
          12548,
          167.62,
          1153,
          947,
          240,
          2229,
          11046,
          638,
          20,
          391,
          644,
          62,
          1085,
          95,
          250,
          798,
          280,
          795,
          757.57,
          4580,
          1472,
          220,
          2710,
          905,
          378,
          3230,
          27,
          133,
          54.78,
          314.15,
          1484,
          280,
          795,
          271.52,
          1535,
          280,
          660,
          649.68,
          398,
          873,
          876,
          224.97,
          1460,
          1252.48,
          800,
          80,
          221.7,
          60.54,
          200,
          1502,
          23480,
          1661,
          450,
          1198.5,
          344.63,
          1302,
          341.93,
          938,
          1101,
          285.59,
          867.83,
          1963,
          116.52,
          300,
          4140,
          1162.27,
          113.97,
          1418,
          1900,
          64,
          10000,
          135,
          50,
          2170,
          2700,
          2862,
          240,
          129.77,
          699,
          199.56,
          110,
          1355,
          720,
          5000,
          475.86,
          3300,
          1180,
          303,
          16.65,
          2658,
          1292.65,
          2118,
          350,
          350,
          1490,
          690,
          99,
          250,
          99,
          250,
          321.8,
          400,
          300,
          300,
          3970,
          2572.26,
          40.78,
          2000.7,
          718,
          25586,
          2350,
          470,
          229.05,
          56.16,
          153.92,
          500,
          4800,
          187.36,
          522.6,
          12541.96,
          3425.5,
          99,
          24,
          100,
          172.07,
          127,
          400,
          300,
          792,
          21500,
          100,
          190.38,
          2202.98,
          736,
          1092,
          250,
          550,
          3250,
          120000,
          297.6,
          807,
          7480,
          730.59,
          3564,
          100,
          740
         ]
        }
       ],
       "layout": {
        "legend": {
         "tracegroupgap": 0
        },
        "template": {
         "data": {
          "bar": [
           {
            "error_x": {
             "color": "#2a3f5f"
            },
            "error_y": {
             "color": "#2a3f5f"
            },
            "marker": {
             "line": {
              "color": "#E5ECF6",
              "width": 0.5
             },
             "pattern": {
              "fillmode": "overlay",
              "size": 10,
              "solidity": 0.2
             }
            },
            "type": "bar"
           }
          ],
          "barpolar": [
           {
            "marker": {
             "line": {
              "color": "#E5ECF6",
              "width": 0.5
             },
             "pattern": {
              "fillmode": "overlay",
              "size": 10,
              "solidity": 0.2
             }
            },
            "type": "barpolar"
           }
          ],
          "carpet": [
           {
            "aaxis": {
             "endlinecolor": "#2a3f5f",
             "gridcolor": "white",
             "linecolor": "white",
             "minorgridcolor": "white",
             "startlinecolor": "#2a3f5f"
            },
            "baxis": {
             "endlinecolor": "#2a3f5f",
             "gridcolor": "white",
             "linecolor": "white",
             "minorgridcolor": "white",
             "startlinecolor": "#2a3f5f"
            },
            "type": "carpet"
           }
          ],
          "choropleth": [
           {
            "colorbar": {
             "outlinewidth": 0,
             "ticks": ""
            },
            "type": "choropleth"
           }
          ],
          "contour": [
           {
            "colorbar": {
             "outlinewidth": 0,
             "ticks": ""
            },
            "colorscale": [
             [
              0,
              "#0d0887"
             ],
             [
              0.1111111111111111,
              "#46039f"
             ],
             [
              0.2222222222222222,
              "#7201a8"
             ],
             [
              0.3333333333333333,
              "#9c179e"
             ],
             [
              0.4444444444444444,
              "#bd3786"
             ],
             [
              0.5555555555555556,
              "#d8576b"
             ],
             [
              0.6666666666666666,
              "#ed7953"
             ],
             [
              0.7777777777777778,
              "#fb9f3a"
             ],
             [
              0.8888888888888888,
              "#fdca26"
             ],
             [
              1,
              "#f0f921"
             ]
            ],
            "type": "contour"
           }
          ],
          "contourcarpet": [
           {
            "colorbar": {
             "outlinewidth": 0,
             "ticks": ""
            },
            "type": "contourcarpet"
           }
          ],
          "heatmap": [
           {
            "colorbar": {
             "outlinewidth": 0,
             "ticks": ""
            },
            "colorscale": [
             [
              0,
              "#0d0887"
             ],
             [
              0.1111111111111111,
              "#46039f"
             ],
             [
              0.2222222222222222,
              "#7201a8"
             ],
             [
              0.3333333333333333,
              "#9c179e"
             ],
             [
              0.4444444444444444,
              "#bd3786"
             ],
             [
              0.5555555555555556,
              "#d8576b"
             ],
             [
              0.6666666666666666,
              "#ed7953"
             ],
             [
              0.7777777777777778,
              "#fb9f3a"
             ],
             [
              0.8888888888888888,
              "#fdca26"
             ],
             [
              1,
              "#f0f921"
             ]
            ],
            "type": "heatmap"
           }
          ],
          "heatmapgl": [
           {
            "colorbar": {
             "outlinewidth": 0,
             "ticks": ""
            },
            "colorscale": [
             [
              0,
              "#0d0887"
             ],
             [
              0.1111111111111111,
              "#46039f"
             ],
             [
              0.2222222222222222,
              "#7201a8"
             ],
             [
              0.3333333333333333,
              "#9c179e"
             ],
             [
              0.4444444444444444,
              "#bd3786"
             ],
             [
              0.5555555555555556,
              "#d8576b"
             ],
             [
              0.6666666666666666,
              "#ed7953"
             ],
             [
              0.7777777777777778,
              "#fb9f3a"
             ],
             [
              0.8888888888888888,
              "#fdca26"
             ],
             [
              1,
              "#f0f921"
             ]
            ],
            "type": "heatmapgl"
           }
          ],
          "histogram": [
           {
            "marker": {
             "pattern": {
              "fillmode": "overlay",
              "size": 10,
              "solidity": 0.2
             }
            },
            "type": "histogram"
           }
          ],
          "histogram2d": [
           {
            "colorbar": {
             "outlinewidth": 0,
             "ticks": ""
            },
            "colorscale": [
             [
              0,
              "#0d0887"
             ],
             [
              0.1111111111111111,
              "#46039f"
             ],
             [
              0.2222222222222222,
              "#7201a8"
             ],
             [
              0.3333333333333333,
              "#9c179e"
             ],
             [
              0.4444444444444444,
              "#bd3786"
             ],
             [
              0.5555555555555556,
              "#d8576b"
             ],
             [
              0.6666666666666666,
              "#ed7953"
             ],
             [
              0.7777777777777778,
              "#fb9f3a"
             ],
             [
              0.8888888888888888,
              "#fdca26"
             ],
             [
              1,
              "#f0f921"
             ]
            ],
            "type": "histogram2d"
           }
          ],
          "histogram2dcontour": [
           {
            "colorbar": {
             "outlinewidth": 0,
             "ticks": ""
            },
            "colorscale": [
             [
              0,
              "#0d0887"
             ],
             [
              0.1111111111111111,
              "#46039f"
             ],
             [
              0.2222222222222222,
              "#7201a8"
             ],
             [
              0.3333333333333333,
              "#9c179e"
             ],
             [
              0.4444444444444444,
              "#bd3786"
             ],
             [
              0.5555555555555556,
              "#d8576b"
             ],
             [
              0.6666666666666666,
              "#ed7953"
             ],
             [
              0.7777777777777778,
              "#fb9f3a"
             ],
             [
              0.8888888888888888,
              "#fdca26"
             ],
             [
              1,
              "#f0f921"
             ]
            ],
            "type": "histogram2dcontour"
           }
          ],
          "mesh3d": [
           {
            "colorbar": {
             "outlinewidth": 0,
             "ticks": ""
            },
            "type": "mesh3d"
           }
          ],
          "parcoords": [
           {
            "line": {
             "colorbar": {
              "outlinewidth": 0,
              "ticks": ""
             }
            },
            "type": "parcoords"
           }
          ],
          "pie": [
           {
            "automargin": true,
            "type": "pie"
           }
          ],
          "scatter": [
           {
            "fillpattern": {
             "fillmode": "overlay",
             "size": 10,
             "solidity": 0.2
            },
            "type": "scatter"
           }
          ],
          "scatter3d": [
           {
            "line": {
             "colorbar": {
              "outlinewidth": 0,
              "ticks": ""
             }
            },
            "marker": {
             "colorbar": {
              "outlinewidth": 0,
              "ticks": ""
             }
            },
            "type": "scatter3d"
           }
          ],
          "scattercarpet": [
           {
            "marker": {
             "colorbar": {
              "outlinewidth": 0,
              "ticks": ""
             }
            },
            "type": "scattercarpet"
           }
          ],
          "scattergeo": [
           {
            "marker": {
             "colorbar": {
              "outlinewidth": 0,
              "ticks": ""
             }
            },
            "type": "scattergeo"
           }
          ],
          "scattergl": [
           {
            "marker": {
             "colorbar": {
              "outlinewidth": 0,
              "ticks": ""
             }
            },
            "type": "scattergl"
           }
          ],
          "scattermapbox": [
           {
            "marker": {
             "colorbar": {
              "outlinewidth": 0,
              "ticks": ""
             }
            },
            "type": "scattermapbox"
           }
          ],
          "scatterpolar": [
           {
            "marker": {
             "colorbar": {
              "outlinewidth": 0,
              "ticks": ""
             }
            },
            "type": "scatterpolar"
           }
          ],
          "scatterpolargl": [
           {
            "marker": {
             "colorbar": {
              "outlinewidth": 0,
              "ticks": ""
             }
            },
            "type": "scatterpolargl"
           }
          ],
          "scatterternary": [
           {
            "marker": {
             "colorbar": {
              "outlinewidth": 0,
              "ticks": ""
             }
            },
            "type": "scatterternary"
           }
          ],
          "surface": [
           {
            "colorbar": {
             "outlinewidth": 0,
             "ticks": ""
            },
            "colorscale": [
             [
              0,
              "#0d0887"
             ],
             [
              0.1111111111111111,
              "#46039f"
             ],
             [
              0.2222222222222222,
              "#7201a8"
             ],
             [
              0.3333333333333333,
              "#9c179e"
             ],
             [
              0.4444444444444444,
              "#bd3786"
             ],
             [
              0.5555555555555556,
              "#d8576b"
             ],
             [
              0.6666666666666666,
              "#ed7953"
             ],
             [
              0.7777777777777778,
              "#fb9f3a"
             ],
             [
              0.8888888888888888,
              "#fdca26"
             ],
             [
              1,
              "#f0f921"
             ]
            ],
            "type": "surface"
           }
          ],
          "table": [
           {
            "cells": {
             "fill": {
              "color": "#EBF0F8"
             },
             "line": {
              "color": "white"
             }
            },
            "header": {
             "fill": {
              "color": "#C8D4E3"
             },
             "line": {
              "color": "white"
             }
            },
            "type": "table"
           }
          ]
         },
         "layout": {
          "annotationdefaults": {
           "arrowcolor": "#2a3f5f",
           "arrowhead": 0,
           "arrowwidth": 1
          },
          "autotypenumbers": "strict",
          "coloraxis": {
           "colorbar": {
            "outlinewidth": 0,
            "ticks": ""
           }
          },
          "colorscale": {
           "diverging": [
            [
             0,
             "#8e0152"
            ],
            [
             0.1,
             "#c51b7d"
            ],
            [
             0.2,
             "#de77ae"
            ],
            [
             0.3,
             "#f1b6da"
            ],
            [
             0.4,
             "#fde0ef"
            ],
            [
             0.5,
             "#f7f7f7"
            ],
            [
             0.6,
             "#e6f5d0"
            ],
            [
             0.7,
             "#b8e186"
            ],
            [
             0.8,
             "#7fbc41"
            ],
            [
             0.9,
             "#4d9221"
            ],
            [
             1,
             "#276419"
            ]
           ],
           "sequential": [
            [
             0,
             "#0d0887"
            ],
            [
             0.1111111111111111,
             "#46039f"
            ],
            [
             0.2222222222222222,
             "#7201a8"
            ],
            [
             0.3333333333333333,
             "#9c179e"
            ],
            [
             0.4444444444444444,
             "#bd3786"
            ],
            [
             0.5555555555555556,
             "#d8576b"
            ],
            [
             0.6666666666666666,
             "#ed7953"
            ],
            [
             0.7777777777777778,
             "#fb9f3a"
            ],
            [
             0.8888888888888888,
             "#fdca26"
            ],
            [
             1,
             "#f0f921"
            ]
           ],
           "sequentialminus": [
            [
             0,
             "#0d0887"
            ],
            [
             0.1111111111111111,
             "#46039f"
            ],
            [
             0.2222222222222222,
             "#7201a8"
            ],
            [
             0.3333333333333333,
             "#9c179e"
            ],
            [
             0.4444444444444444,
             "#bd3786"
            ],
            [
             0.5555555555555556,
             "#d8576b"
            ],
            [
             0.6666666666666666,
             "#ed7953"
            ],
            [
             0.7777777777777778,
             "#fb9f3a"
            ],
            [
             0.8888888888888888,
             "#fdca26"
            ],
            [
             1,
             "#f0f921"
            ]
           ]
          },
          "colorway": [
           "#636efa",
           "#EF553B",
           "#00cc96",
           "#ab63fa",
           "#FFA15A",
           "#19d3f3",
           "#FF6692",
           "#B6E880",
           "#FF97FF",
           "#FECB52"
          ],
          "font": {
           "color": "#2a3f5f"
          },
          "geo": {
           "bgcolor": "white",
           "lakecolor": "white",
           "landcolor": "#E5ECF6",
           "showlakes": true,
           "showland": true,
           "subunitcolor": "white"
          },
          "hoverlabel": {
           "align": "left"
          },
          "hovermode": "closest",
          "mapbox": {
           "style": "light"
          },
          "paper_bgcolor": "white",
          "plot_bgcolor": "#E5ECF6",
          "polar": {
           "angularaxis": {
            "gridcolor": "white",
            "linecolor": "white",
            "ticks": ""
           },
           "bgcolor": "#E5ECF6",
           "radialaxis": {
            "gridcolor": "white",
            "linecolor": "white",
            "ticks": ""
           }
          },
          "scene": {
           "xaxis": {
            "backgroundcolor": "#E5ECF6",
            "gridcolor": "white",
            "gridwidth": 2,
            "linecolor": "white",
            "showbackground": true,
            "ticks": "",
            "zerolinecolor": "white"
           },
           "yaxis": {
            "backgroundcolor": "#E5ECF6",
            "gridcolor": "white",
            "gridwidth": 2,
            "linecolor": "white",
            "showbackground": true,
            "ticks": "",
            "zerolinecolor": "white"
           },
           "zaxis": {
            "backgroundcolor": "#E5ECF6",
            "gridcolor": "white",
            "gridwidth": 2,
            "linecolor": "white",
            "showbackground": true,
            "ticks": "",
            "zerolinecolor": "white"
           }
          },
          "shapedefaults": {
           "line": {
            "color": "#2a3f5f"
           }
          },
          "ternary": {
           "aaxis": {
            "gridcolor": "white",
            "linecolor": "white",
            "ticks": ""
           },
           "baxis": {
            "gridcolor": "white",
            "linecolor": "white",
            "ticks": ""
           },
           "bgcolor": "#E5ECF6",
           "caxis": {
            "gridcolor": "white",
            "linecolor": "white",
            "ticks": ""
           }
          },
          "title": {
           "x": 0.05
          },
          "xaxis": {
           "automargin": true,
           "gridcolor": "white",
           "linecolor": "white",
           "ticks": "",
           "title": {
            "standoff": 15
           },
           "zerolinecolor": "white",
           "zerolinewidth": 2
          },
          "yaxis": {
           "automargin": true,
           "gridcolor": "white",
           "linecolor": "white",
           "ticks": "",
           "title": {
            "standoff": 15
           },
           "zerolinecolor": "white",
           "zerolinewidth": 2
          }
         }
        },
        "title": {
         "text": "Всего трат за сентябрь: 381965.67"
        }
       }
      }
     },
     "metadata": {},
     "output_type": "display_data"
    }
   ],
   "source": [
    "import plotly.express as px\n",
    "\n",
    "# fig = px.pie(trans_df.loc[exp_mask & (trans_df['dt'].dt.month == month)], values='trans_rub', names='Категория', title=f'Траты за месяц {month}')\n",
    "# df_tmp = trans_df.loc[exp_mask]\n",
    "\n",
    "fig = px.pie(df_vis, values='trans_rub', names='Категория', title=f'Всего трат за {months_dict[month]}: {df_vis[\"trans_rub\"].sum()}')\n",
    "fig.show()"
   ]
  },
  {
   "cell_type": "code",
   "execution_count": 19,
   "metadata": {},
   "outputs": [
    {
     "data": {
      "application/vnd.plotly.v1+json": {
       "config": {
        "plotlyServerURL": "https://plot.ly"
       },
       "data": [
        {
         "domain": {
          "x": [
           0,
           1
          ],
          "y": [
           0,
           1
          ]
         },
         "hovertemplate": "Категория=%{label}<br>trans_rub=%{value}<extra></extra>",
         "labels": [
          "Transportation",
          "Food & Dining",
          "Other",
          "Transportation",
          "Entertainment",
          "Transportation",
          "Vacations",
          "Vacations",
          "Food & Dining",
          "Food & Dining",
          "Health Care",
          "Health Care",
          "Vacations",
          "Vacations",
          "Transportation",
          "Transportation",
          "Food & Dining",
          "Household",
          "Household",
          "Transportation",
          "Transportation",
          "Household",
          "Entertainment",
          "Entertainment",
          "Household",
          "Entertainment",
          "Food & Dining",
          "Entertainment",
          "Entertainment",
          "Transportation",
          "Entertainment",
          "Entertainment",
          "Transportation",
          "Transportation",
          "Transportation",
          "Transportation",
          "Health Care",
          "Entertainment",
          "Entertainment",
          "Transportation",
          "Food & Dining",
          "Entertainment",
          "Entertainment",
          "Household",
          "Entertainment",
          "Household",
          "Food & Dining",
          "Household",
          "Household",
          "Household",
          "Sport",
          "Household",
          "Transportation",
          "Transportation",
          "Transportation",
          "Food & Dining",
          "Entertainment",
          "Food & Dining",
          "Entertainment",
          "Household",
          "Transportation",
          "Food & Dining",
          "Household",
          "Household",
          "Food & Dining",
          "Household",
          "Household",
          "Household",
          "Transportation",
          "Transportation",
          "Entertainment",
          "Transportation",
          "Household",
          "Food & Dining",
          "Entertainment",
          "Transportation",
          "Other",
          "Household",
          "Household",
          "Entertainment",
          "Entertainment",
          "Food & Dining",
          "Transportation",
          "Household",
          "Personal",
          "Transportation",
          "Other",
          "Entertainment",
          "Entertainment",
          "Other",
          "Transportation",
          "Personal",
          "Food & Dining",
          "Health Care",
          "Transportation",
          "Household",
          "Transportation",
          "Health Care",
          "Entertainment",
          "Entertainment",
          "Entertainment",
          "Entertainment",
          "Transportation",
          "Transportation",
          "Transportation",
          "Transportation",
          "Transportation",
          "Transportation",
          "Transportation",
          "Transportation",
          "Entertainment",
          "Transportation",
          "Transportation",
          "Transportation",
          "Food & Dining",
          "Shopping",
          "Entertainment",
          "Transportation",
          "Transportation",
          "Transportation",
          "Transportation",
          "Sport",
          "Sport",
          "Transportation",
          "Transportation",
          "Household",
          "Entertainment",
          "Personal",
          "Transportation",
          "Transportation",
          "Transportation",
          "Transportation",
          "Transportation",
          "Transportation",
          "Household",
          "Shopping",
          "Transportation",
          "Transportation",
          "Household",
          "Household",
          "Food & Dining",
          "Entertainment",
          "Entertainment",
          "Entertainment",
          "Transportation",
          "Entertainment",
          "Entertainment",
          "Transportation",
          "Shopping",
          "Personal",
          "Personal"
         ],
         "legendgroup": "",
         "name": "",
         "showlegend": true,
         "type": "pie",
         "values": [
          362.01,
          2983,
          989,
          123.21,
          2261,
          1682,
          12548,
          167.62,
          1153,
          947,
          240,
          2229,
          11046,
          638,
          20,
          391,
          644,
          62,
          1085,
          95,
          250,
          798,
          280,
          795,
          757.57,
          4580,
          1472,
          220,
          2710,
          905,
          378,
          3230,
          27,
          133,
          54.78,
          314.15,
          1484,
          280,
          795,
          271.52,
          1535,
          280,
          660,
          649.68,
          398,
          873,
          876,
          224.97,
          1460,
          1252.48,
          800,
          80,
          221.7,
          60.54,
          200,
          1502,
          23480,
          1661,
          450,
          1198.5,
          344.63,
          1302,
          341.93,
          938,
          1101,
          285.59,
          867.83,
          1963,
          116.52,
          300,
          4140,
          1162.27,
          113.97,
          1418,
          1900,
          64,
          10000,
          135,
          50,
          2170,
          2700,
          2862,
          240,
          129.77,
          699,
          199.56,
          110,
          1355,
          720,
          5000,
          475.86,
          3300,
          1180,
          303,
          16.65,
          2658,
          1292.65,
          2118,
          350,
          350,
          1490,
          690,
          99,
          250,
          99,
          250,
          321.8,
          400,
          300,
          300,
          3970,
          2572.26,
          40.78,
          2000.7,
          718,
          25586,
          2350,
          470,
          229.05,
          56.16,
          153.92,
          500,
          4800,
          187.36,
          522.6,
          12541.96,
          3425.5,
          99,
          24,
          100,
          172.07,
          127,
          400,
          300,
          792,
          21500,
          100,
          190.38,
          2202.98,
          736,
          1092,
          250,
          550,
          3250,
          297.6,
          807,
          7480,
          730.59,
          3564,
          100,
          740
         ]
        }
       ],
       "layout": {
        "legend": {
         "tracegroupgap": 0
        },
        "template": {
         "data": {
          "bar": [
           {
            "error_x": {
             "color": "#2a3f5f"
            },
            "error_y": {
             "color": "#2a3f5f"
            },
            "marker": {
             "line": {
              "color": "#E5ECF6",
              "width": 0.5
             },
             "pattern": {
              "fillmode": "overlay",
              "size": 10,
              "solidity": 0.2
             }
            },
            "type": "bar"
           }
          ],
          "barpolar": [
           {
            "marker": {
             "line": {
              "color": "#E5ECF6",
              "width": 0.5
             },
             "pattern": {
              "fillmode": "overlay",
              "size": 10,
              "solidity": 0.2
             }
            },
            "type": "barpolar"
           }
          ],
          "carpet": [
           {
            "aaxis": {
             "endlinecolor": "#2a3f5f",
             "gridcolor": "white",
             "linecolor": "white",
             "minorgridcolor": "white",
             "startlinecolor": "#2a3f5f"
            },
            "baxis": {
             "endlinecolor": "#2a3f5f",
             "gridcolor": "white",
             "linecolor": "white",
             "minorgridcolor": "white",
             "startlinecolor": "#2a3f5f"
            },
            "type": "carpet"
           }
          ],
          "choropleth": [
           {
            "colorbar": {
             "outlinewidth": 0,
             "ticks": ""
            },
            "type": "choropleth"
           }
          ],
          "contour": [
           {
            "colorbar": {
             "outlinewidth": 0,
             "ticks": ""
            },
            "colorscale": [
             [
              0,
              "#0d0887"
             ],
             [
              0.1111111111111111,
              "#46039f"
             ],
             [
              0.2222222222222222,
              "#7201a8"
             ],
             [
              0.3333333333333333,
              "#9c179e"
             ],
             [
              0.4444444444444444,
              "#bd3786"
             ],
             [
              0.5555555555555556,
              "#d8576b"
             ],
             [
              0.6666666666666666,
              "#ed7953"
             ],
             [
              0.7777777777777778,
              "#fb9f3a"
             ],
             [
              0.8888888888888888,
              "#fdca26"
             ],
             [
              1,
              "#f0f921"
             ]
            ],
            "type": "contour"
           }
          ],
          "contourcarpet": [
           {
            "colorbar": {
             "outlinewidth": 0,
             "ticks": ""
            },
            "type": "contourcarpet"
           }
          ],
          "heatmap": [
           {
            "colorbar": {
             "outlinewidth": 0,
             "ticks": ""
            },
            "colorscale": [
             [
              0,
              "#0d0887"
             ],
             [
              0.1111111111111111,
              "#46039f"
             ],
             [
              0.2222222222222222,
              "#7201a8"
             ],
             [
              0.3333333333333333,
              "#9c179e"
             ],
             [
              0.4444444444444444,
              "#bd3786"
             ],
             [
              0.5555555555555556,
              "#d8576b"
             ],
             [
              0.6666666666666666,
              "#ed7953"
             ],
             [
              0.7777777777777778,
              "#fb9f3a"
             ],
             [
              0.8888888888888888,
              "#fdca26"
             ],
             [
              1,
              "#f0f921"
             ]
            ],
            "type": "heatmap"
           }
          ],
          "heatmapgl": [
           {
            "colorbar": {
             "outlinewidth": 0,
             "ticks": ""
            },
            "colorscale": [
             [
              0,
              "#0d0887"
             ],
             [
              0.1111111111111111,
              "#46039f"
             ],
             [
              0.2222222222222222,
              "#7201a8"
             ],
             [
              0.3333333333333333,
              "#9c179e"
             ],
             [
              0.4444444444444444,
              "#bd3786"
             ],
             [
              0.5555555555555556,
              "#d8576b"
             ],
             [
              0.6666666666666666,
              "#ed7953"
             ],
             [
              0.7777777777777778,
              "#fb9f3a"
             ],
             [
              0.8888888888888888,
              "#fdca26"
             ],
             [
              1,
              "#f0f921"
             ]
            ],
            "type": "heatmapgl"
           }
          ],
          "histogram": [
           {
            "marker": {
             "pattern": {
              "fillmode": "overlay",
              "size": 10,
              "solidity": 0.2
             }
            },
            "type": "histogram"
           }
          ],
          "histogram2d": [
           {
            "colorbar": {
             "outlinewidth": 0,
             "ticks": ""
            },
            "colorscale": [
             [
              0,
              "#0d0887"
             ],
             [
              0.1111111111111111,
              "#46039f"
             ],
             [
              0.2222222222222222,
              "#7201a8"
             ],
             [
              0.3333333333333333,
              "#9c179e"
             ],
             [
              0.4444444444444444,
              "#bd3786"
             ],
             [
              0.5555555555555556,
              "#d8576b"
             ],
             [
              0.6666666666666666,
              "#ed7953"
             ],
             [
              0.7777777777777778,
              "#fb9f3a"
             ],
             [
              0.8888888888888888,
              "#fdca26"
             ],
             [
              1,
              "#f0f921"
             ]
            ],
            "type": "histogram2d"
           }
          ],
          "histogram2dcontour": [
           {
            "colorbar": {
             "outlinewidth": 0,
             "ticks": ""
            },
            "colorscale": [
             [
              0,
              "#0d0887"
             ],
             [
              0.1111111111111111,
              "#46039f"
             ],
             [
              0.2222222222222222,
              "#7201a8"
             ],
             [
              0.3333333333333333,
              "#9c179e"
             ],
             [
              0.4444444444444444,
              "#bd3786"
             ],
             [
              0.5555555555555556,
              "#d8576b"
             ],
             [
              0.6666666666666666,
              "#ed7953"
             ],
             [
              0.7777777777777778,
              "#fb9f3a"
             ],
             [
              0.8888888888888888,
              "#fdca26"
             ],
             [
              1,
              "#f0f921"
             ]
            ],
            "type": "histogram2dcontour"
           }
          ],
          "mesh3d": [
           {
            "colorbar": {
             "outlinewidth": 0,
             "ticks": ""
            },
            "type": "mesh3d"
           }
          ],
          "parcoords": [
           {
            "line": {
             "colorbar": {
              "outlinewidth": 0,
              "ticks": ""
             }
            },
            "type": "parcoords"
           }
          ],
          "pie": [
           {
            "automargin": true,
            "type": "pie"
           }
          ],
          "scatter": [
           {
            "fillpattern": {
             "fillmode": "overlay",
             "size": 10,
             "solidity": 0.2
            },
            "type": "scatter"
           }
          ],
          "scatter3d": [
           {
            "line": {
             "colorbar": {
              "outlinewidth": 0,
              "ticks": ""
             }
            },
            "marker": {
             "colorbar": {
              "outlinewidth": 0,
              "ticks": ""
             }
            },
            "type": "scatter3d"
           }
          ],
          "scattercarpet": [
           {
            "marker": {
             "colorbar": {
              "outlinewidth": 0,
              "ticks": ""
             }
            },
            "type": "scattercarpet"
           }
          ],
          "scattergeo": [
           {
            "marker": {
             "colorbar": {
              "outlinewidth": 0,
              "ticks": ""
             }
            },
            "type": "scattergeo"
           }
          ],
          "scattergl": [
           {
            "marker": {
             "colorbar": {
              "outlinewidth": 0,
              "ticks": ""
             }
            },
            "type": "scattergl"
           }
          ],
          "scattermapbox": [
           {
            "marker": {
             "colorbar": {
              "outlinewidth": 0,
              "ticks": ""
             }
            },
            "type": "scattermapbox"
           }
          ],
          "scatterpolar": [
           {
            "marker": {
             "colorbar": {
              "outlinewidth": 0,
              "ticks": ""
             }
            },
            "type": "scatterpolar"
           }
          ],
          "scatterpolargl": [
           {
            "marker": {
             "colorbar": {
              "outlinewidth": 0,
              "ticks": ""
             }
            },
            "type": "scatterpolargl"
           }
          ],
          "scatterternary": [
           {
            "marker": {
             "colorbar": {
              "outlinewidth": 0,
              "ticks": ""
             }
            },
            "type": "scatterternary"
           }
          ],
          "surface": [
           {
            "colorbar": {
             "outlinewidth": 0,
             "ticks": ""
            },
            "colorscale": [
             [
              0,
              "#0d0887"
             ],
             [
              0.1111111111111111,
              "#46039f"
             ],
             [
              0.2222222222222222,
              "#7201a8"
             ],
             [
              0.3333333333333333,
              "#9c179e"
             ],
             [
              0.4444444444444444,
              "#bd3786"
             ],
             [
              0.5555555555555556,
              "#d8576b"
             ],
             [
              0.6666666666666666,
              "#ed7953"
             ],
             [
              0.7777777777777778,
              "#fb9f3a"
             ],
             [
              0.8888888888888888,
              "#fdca26"
             ],
             [
              1,
              "#f0f921"
             ]
            ],
            "type": "surface"
           }
          ],
          "table": [
           {
            "cells": {
             "fill": {
              "color": "#EBF0F8"
             },
             "line": {
              "color": "white"
             }
            },
            "header": {
             "fill": {
              "color": "#C8D4E3"
             },
             "line": {
              "color": "white"
             }
            },
            "type": "table"
           }
          ]
         },
         "layout": {
          "annotationdefaults": {
           "arrowcolor": "#2a3f5f",
           "arrowhead": 0,
           "arrowwidth": 1
          },
          "autotypenumbers": "strict",
          "coloraxis": {
           "colorbar": {
            "outlinewidth": 0,
            "ticks": ""
           }
          },
          "colorscale": {
           "diverging": [
            [
             0,
             "#8e0152"
            ],
            [
             0.1,
             "#c51b7d"
            ],
            [
             0.2,
             "#de77ae"
            ],
            [
             0.3,
             "#f1b6da"
            ],
            [
             0.4,
             "#fde0ef"
            ],
            [
             0.5,
             "#f7f7f7"
            ],
            [
             0.6,
             "#e6f5d0"
            ],
            [
             0.7,
             "#b8e186"
            ],
            [
             0.8,
             "#7fbc41"
            ],
            [
             0.9,
             "#4d9221"
            ],
            [
             1,
             "#276419"
            ]
           ],
           "sequential": [
            [
             0,
             "#0d0887"
            ],
            [
             0.1111111111111111,
             "#46039f"
            ],
            [
             0.2222222222222222,
             "#7201a8"
            ],
            [
             0.3333333333333333,
             "#9c179e"
            ],
            [
             0.4444444444444444,
             "#bd3786"
            ],
            [
             0.5555555555555556,
             "#d8576b"
            ],
            [
             0.6666666666666666,
             "#ed7953"
            ],
            [
             0.7777777777777778,
             "#fb9f3a"
            ],
            [
             0.8888888888888888,
             "#fdca26"
            ],
            [
             1,
             "#f0f921"
            ]
           ],
           "sequentialminus": [
            [
             0,
             "#0d0887"
            ],
            [
             0.1111111111111111,
             "#46039f"
            ],
            [
             0.2222222222222222,
             "#7201a8"
            ],
            [
             0.3333333333333333,
             "#9c179e"
            ],
            [
             0.4444444444444444,
             "#bd3786"
            ],
            [
             0.5555555555555556,
             "#d8576b"
            ],
            [
             0.6666666666666666,
             "#ed7953"
            ],
            [
             0.7777777777777778,
             "#fb9f3a"
            ],
            [
             0.8888888888888888,
             "#fdca26"
            ],
            [
             1,
             "#f0f921"
            ]
           ]
          },
          "colorway": [
           "#636efa",
           "#EF553B",
           "#00cc96",
           "#ab63fa",
           "#FFA15A",
           "#19d3f3",
           "#FF6692",
           "#B6E880",
           "#FF97FF",
           "#FECB52"
          ],
          "font": {
           "color": "#2a3f5f"
          },
          "geo": {
           "bgcolor": "white",
           "lakecolor": "white",
           "landcolor": "#E5ECF6",
           "showlakes": true,
           "showland": true,
           "subunitcolor": "white"
          },
          "hoverlabel": {
           "align": "left"
          },
          "hovermode": "closest",
          "mapbox": {
           "style": "light"
          },
          "paper_bgcolor": "white",
          "plot_bgcolor": "#E5ECF6",
          "polar": {
           "angularaxis": {
            "gridcolor": "white",
            "linecolor": "white",
            "ticks": ""
           },
           "bgcolor": "#E5ECF6",
           "radialaxis": {
            "gridcolor": "white",
            "linecolor": "white",
            "ticks": ""
           }
          },
          "scene": {
           "xaxis": {
            "backgroundcolor": "#E5ECF6",
            "gridcolor": "white",
            "gridwidth": 2,
            "linecolor": "white",
            "showbackground": true,
            "ticks": "",
            "zerolinecolor": "white"
           },
           "yaxis": {
            "backgroundcolor": "#E5ECF6",
            "gridcolor": "white",
            "gridwidth": 2,
            "linecolor": "white",
            "showbackground": true,
            "ticks": "",
            "zerolinecolor": "white"
           },
           "zaxis": {
            "backgroundcolor": "#E5ECF6",
            "gridcolor": "white",
            "gridwidth": 2,
            "linecolor": "white",
            "showbackground": true,
            "ticks": "",
            "zerolinecolor": "white"
           }
          },
          "shapedefaults": {
           "line": {
            "color": "#2a3f5f"
           }
          },
          "ternary": {
           "aaxis": {
            "gridcolor": "white",
            "linecolor": "white",
            "ticks": ""
           },
           "baxis": {
            "gridcolor": "white",
            "linecolor": "white",
            "ticks": ""
           },
           "bgcolor": "#E5ECF6",
           "caxis": {
            "gridcolor": "white",
            "linecolor": "white",
            "ticks": ""
           }
          },
          "title": {
           "x": 0.05
          },
          "xaxis": {
           "automargin": true,
           "gridcolor": "white",
           "linecolor": "white",
           "ticks": "",
           "title": {
            "standoff": 15
           },
           "zerolinecolor": "white",
           "zerolinewidth": 2
          },
          "yaxis": {
           "automargin": true,
           "gridcolor": "white",
           "linecolor": "white",
           "ticks": "",
           "title": {
            "standoff": 15
           },
           "zerolinecolor": "white",
           "zerolinewidth": 2
          }
         }
        },
        "title": {
         "text": "Всего трат за сентябрь: 261965.66999999998"
        }
       }
      }
     },
     "metadata": {},
     "output_type": "display_data"
    }
   ],
   "source": [
    "df_vis_2 = df_vis.loc[df_vis['Подкатегория'] != \"Mortgage/Rent\"]\n",
    "\n",
    "fig = px.pie(df_vis_2, values='trans_rub', names='Категория', title=f'Всего трат за {months_dict[month]}: {df_vis_2[\"trans_rub\"].sum()}')\n",
    "fig.show()"
   ]
  },
  {
   "cell_type": "code",
   "execution_count": 43,
   "metadata": {},
   "outputs": [
    {
     "data": {
      "text/html": [
       "<div>\n",
       "<style scoped>\n",
       "    .dataframe tbody tr th:only-of-type {\n",
       "        vertical-align: middle;\n",
       "    }\n",
       "\n",
       "    .dataframe tbody tr th {\n",
       "        vertical-align: top;\n",
       "    }\n",
       "\n",
       "    .dataframe thead th {\n",
       "        text-align: right;\n",
       "    }\n",
       "</style>\n",
       "<table border=\"1\" class=\"dataframe\">\n",
       "  <thead>\n",
       "    <tr style=\"text-align: right;\">\n",
       "      <th></th>\n",
       "      <th>dt</th>\n",
       "      <th>trans_rub</th>\n",
       "      <th>Категория</th>\n",
       "      <th>Подкатегория</th>\n",
       "      <th>Долг</th>\n",
       "      <th>account</th>\n",
       "    </tr>\n",
       "  </thead>\n",
       "  <tbody>\n",
       "    <tr>\n",
       "      <th>0</th>\n",
       "      <td>2024-08-19 12:45:00</td>\n",
       "      <td>-725.85</td>\n",
       "      <td>Food &amp; Dining</td>\n",
       "      <td>Business Lunch</td>\n",
       "      <td>None</td>\n",
       "      <td>t-bank (main)</td>\n",
       "    </tr>\n",
       "    <tr>\n",
       "      <th>1</th>\n",
       "      <td>2024-08-19 09:06:00</td>\n",
       "      <td>-1103.00</td>\n",
       "      <td>Food &amp; Dining</td>\n",
       "      <td>Delivery</td>\n",
       "      <td>None</td>\n",
       "      <td>t-bank (main)</td>\n",
       "    </tr>\n",
       "    <tr>\n",
       "      <th>2</th>\n",
       "      <td>2024-08-18 19:46:00</td>\n",
       "      <td>-197.00</td>\n",
       "      <td>Transportation</td>\n",
       "      <td>Carsharing</td>\n",
       "      <td>None</td>\n",
       "      <td>t-bank (main)</td>\n",
       "    </tr>\n",
       "    <tr>\n",
       "      <th>3</th>\n",
       "      <td>2024-08-18 13:16:00</td>\n",
       "      <td>-640.00</td>\n",
       "      <td>Household</td>\n",
       "      <td>Groceries</td>\n",
       "      <td></td>\n",
       "      <td>t-bank (main)</td>\n",
       "    </tr>\n",
       "    <tr>\n",
       "      <th>4</th>\n",
       "      <td>2024-08-18 13:12:00</td>\n",
       "      <td>-580.00</td>\n",
       "      <td>Household</td>\n",
       "      <td>Groceries</td>\n",
       "      <td>None</td>\n",
       "      <td>t-bank (main)</td>\n",
       "    </tr>\n",
       "    <tr>\n",
       "      <th>...</th>\n",
       "      <td>...</td>\n",
       "      <td>...</td>\n",
       "      <td>...</td>\n",
       "      <td>...</td>\n",
       "      <td>...</td>\n",
       "      <td>...</td>\n",
       "    </tr>\n",
       "    <tr>\n",
       "      <th>42</th>\n",
       "      <td>2024-04-16 16:56:00</td>\n",
       "      <td>-1495.00</td>\n",
       "      <td>Transfer</td>\n",
       "      <td>None</td>\n",
       "      <td>None</td>\n",
       "      <td>ozon-bank (main)</td>\n",
       "    </tr>\n",
       "    <tr>\n",
       "      <th>43</th>\n",
       "      <td>2024-04-15 22:38:00</td>\n",
       "      <td>-1302.00</td>\n",
       "      <td>Household</td>\n",
       "      <td>Accessories</td>\n",
       "      <td>None</td>\n",
       "      <td>ozon-bank (main)</td>\n",
       "    </tr>\n",
       "    <tr>\n",
       "      <th>44</th>\n",
       "      <td>2024-04-15 08:45:00</td>\n",
       "      <td>-2363.00</td>\n",
       "      <td>Household</td>\n",
       "      <td>Accessories</td>\n",
       "      <td>None</td>\n",
       "      <td>ozon-bank (main)</td>\n",
       "    </tr>\n",
       "    <tr>\n",
       "      <th>45</th>\n",
       "      <td>2024-04-13 15:32:00</td>\n",
       "      <td>-4840.00</td>\n",
       "      <td>Household</td>\n",
       "      <td>Accessories</td>\n",
       "      <td>None</td>\n",
       "      <td>ozon-bank (main)</td>\n",
       "    </tr>\n",
       "    <tr>\n",
       "      <th>46</th>\n",
       "      <td>2024-04-13 15:17:00</td>\n",
       "      <td>10000.00</td>\n",
       "      <td>Transfer</td>\n",
       "      <td>None</td>\n",
       "      <td>None</td>\n",
       "      <td>ozon-bank (main)</td>\n",
       "    </tr>\n",
       "  </tbody>\n",
       "</table>\n",
       "<p>1371 rows × 6 columns</p>\n",
       "</div>"
      ],
      "text/plain": [
       "                    dt  trans_rub       Категория    Подкатегория  Долг   \n",
       "0  2024-08-19 12:45:00    -725.85   Food & Dining  Business Lunch  None  \\\n",
       "1  2024-08-19 09:06:00   -1103.00   Food & Dining        Delivery  None   \n",
       "2  2024-08-18 19:46:00    -197.00  Transportation      Carsharing  None   \n",
       "3  2024-08-18 13:16:00    -640.00       Household       Groceries         \n",
       "4  2024-08-18 13:12:00    -580.00       Household       Groceries  None   \n",
       "..                 ...        ...             ...             ...   ...   \n",
       "42 2024-04-16 16:56:00   -1495.00        Transfer            None  None   \n",
       "43 2024-04-15 22:38:00   -1302.00       Household     Accessories  None   \n",
       "44 2024-04-15 08:45:00   -2363.00       Household     Accessories  None   \n",
       "45 2024-04-13 15:32:00   -4840.00       Household     Accessories  None   \n",
       "46 2024-04-13 15:17:00   10000.00        Transfer            None  None   \n",
       "\n",
       "             account  \n",
       "0      t-bank (main)  \n",
       "1      t-bank (main)  \n",
       "2      t-bank (main)  \n",
       "3      t-bank (main)  \n",
       "4      t-bank (main)  \n",
       "..               ...  \n",
       "42  ozon-bank (main)  \n",
       "43  ozon-bank (main)  \n",
       "44  ozon-bank (main)  \n",
       "45  ozon-bank (main)  \n",
       "46  ozon-bank (main)  \n",
       "\n",
       "[1371 rows x 6 columns]"
      ]
     },
     "execution_count": 43,
     "metadata": {},
     "output_type": "execute_result"
    }
   ],
   "source": []
  },
  {
   "cell_type": "code",
   "execution_count": 154,
   "metadata": {},
   "outputs": [
    {
     "data": {
      "application/vnd.jupyter.widget-view+json": {
       "model_id": "1b34f09793304ed89668ac66b27e5298",
       "version_major": 2,
       "version_minor": 0
      },
      "text/plain": [
       "Output()"
      ]
     },
     "execution_count": 154,
     "metadata": {},
     "output_type": "execute_result"
    }
   ],
   "source": [
    "import pandas as pd\n",
    "import plotly.graph_objects as go\n",
    "from ipywidgets import Output\n",
    "\n",
    "\n",
    "# Output widget for displaying interactive figures\n",
    "output = Output()\n",
    "\n",
    "# Function to generate category waterfall chart\n",
    "def create_category_waterfall():\n",
    "    category_data = df_vis.groupby('Категория')['trans_rub'].sum().reset_index()\n",
    "    \n",
    "    fig = go.FigureWidget(go.Waterfall(\n",
    "        x=category_data['Категория'],\n",
    "        y=category_data['trans_rub'],\n",
    "        connector=dict(line=dict(color=\"black\", dash=\"dot\"))\n",
    "    ))\n",
    "\n",
    "    fig.update_layout(title=\"Transaction Distribution by Category (Waterfall Chart)\")\n",
    "    \n",
    "    # Click event for category waterfall\n",
    "    fig.data[0].on_click(on_category_click)\n",
    "    with output:\n",
    "        output.clear_output(wait=True)\n",
    "        display(fig)\n",
    "\n",
    "# Function to generate subcategory waterfall chart based on selected category\n",
    "def create_subcategory_waterfall(selected_category):\n",
    "    subcategory_data = df_vis[df_vis['Категория'] == selected_category].groupby('Подкатегория')['trans_rub'].sum().reset_index()\n",
    "\n",
    "    fig = go.FigureWidget(go.Waterfall(\n",
    "        x=subcategory_data['Подкатегория'],\n",
    "        y=subcategory_data['trans_rub'],\n",
    "        connector=dict(line=dict(color=\"black\", dash=\"dot\"))\n",
    "    ))\n",
    "\n",
    "    fig.update_layout(title=f\"Transaction Distribution in {selected_category} by Subcategory (Waterfall Chart)\")\n",
    "    \n",
    "    # Click event to go back to main category waterfall\n",
    "    fig.data[0].on_click(on_subcategory_click)\n",
    "    with output:\n",
    "        output.clear_output(wait=True)\n",
    "        display(fig)\n",
    "\n",
    "# Event handler when a category bar is clicked\n",
    "def on_category_click(trace, points, state):\n",
    "    selected_category = trace.x[points.point_inds[0]]\n",
    "    create_subcategory_waterfall(selected_category)\n",
    "\n",
    "# Event handler to go back to category view\n",
    "def on_subcategory_click(trace, points, state):\n",
    "    create_category_waterfall()\n",
    "\n",
    "# Display the initial category waterfall chart\n",
    "create_category_waterfall()\n",
    "output\n"
   ]
  },
  {
   "cell_type": "code",
   "execution_count": null,
   "metadata": {},
   "outputs": [],
   "source": []
  }
 ],
 "metadata": {
  "kernelspec": {
   "display_name": "finman",
   "language": "python",
   "name": "python3"
  },
  "language_info": {
   "codemirror_mode": {
    "name": "ipython",
    "version": 3
   },
   "file_extension": ".py",
   "mimetype": "text/x-python",
   "name": "python",
   "nbconvert_exporter": "python",
   "pygments_lexer": "ipython3",
   "version": "3.10.11"
  }
 },
 "nbformat": 4,
 "nbformat_minor": 2
}
