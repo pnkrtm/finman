{
 "cells": [
  {
   "cell_type": "code",
   "execution_count": 1,
   "metadata": {},
   "outputs": [],
   "source": [
    "import sys\n",
    "sys.path.append(\"../\")"
   ]
  },
  {
   "cell_type": "code",
   "execution_count": 2,
   "metadata": {},
   "outputs": [],
   "source": [
    "statement_name = \"../tmp/Справка_о_движении_денежных_средств_0819.pdf\"\n",
    "incomes = 9678606.76\n",
    "expences = -9128682.41"
   ]
  },
  {
   "cell_type": "markdown",
   "metadata": {},
   "source": [
    "# 1. Прочитать выписку"
   ]
  },
  {
   "cell_type": "code",
   "execution_count": 3,
   "metadata": {},
   "outputs": [],
   "source": [
    "from src.finman.utils.pdf import extract_text_from_pdf\n",
    "from src.finman.expenses.tbank import parse_operations"
   ]
  },
  {
   "cell_type": "code",
   "execution_count": 4,
   "metadata": {},
   "outputs": [],
   "source": [
    "text = extract_text_from_pdf(statement_name)\n",
    "transactions_df = parse_operations(text)"
   ]
  },
  {
   "cell_type": "code",
   "execution_count": 5,
   "metadata": {},
   "outputs": [],
   "source": [
    "assert transactions_df.loc[transactions_df['Сумма операции в валюте карты'] > 0]['Сумма операции в валюте карты'].sum() == incomes\n",
    "assert transactions_df.loc[transactions_df['Сумма операции в валюте карты'] < 0]['Сумма операции в валюте карты'].sum() == expences"
   ]
  },
  {
   "cell_type": "code",
   "execution_count": 6,
   "metadata": {},
   "outputs": [
    {
     "data": {
      "text/plain": [
       "(1314, 9)"
      ]
     },
     "execution_count": 6,
     "metadata": {},
     "output_type": "execute_result"
    }
   ],
   "source": [
    "transactions_df.shape"
   ]
  },
  {
   "cell_type": "code",
   "execution_count": 7,
   "metadata": {},
   "outputs": [
    {
     "data": {
      "text/html": [
       "<div>\n",
       "<style scoped>\n",
       "    .dataframe tbody tr th:only-of-type {\n",
       "        vertical-align: middle;\n",
       "    }\n",
       "\n",
       "    .dataframe tbody tr th {\n",
       "        vertical-align: top;\n",
       "    }\n",
       "\n",
       "    .dataframe thead th {\n",
       "        text-align: right;\n",
       "    }\n",
       "</style>\n",
       "<table border=\"1\" class=\"dataframe\">\n",
       "  <thead>\n",
       "    <tr style=\"text-align: right;\">\n",
       "      <th></th>\n",
       "      <th>id</th>\n",
       "      <th>Дата операции</th>\n",
       "      <th>Время операции</th>\n",
       "      <th>Сумма операции в валюте карты</th>\n",
       "      <th>Валюта карты</th>\n",
       "      <th>Сумма в валюте операции</th>\n",
       "      <th>Валюта операции</th>\n",
       "      <th>Описание операции</th>\n",
       "      <th>Номер карты</th>\n",
       "    </tr>\n",
       "  </thead>\n",
       "  <tbody>\n",
       "    <tr>\n",
       "      <th>0</th>\n",
       "      <td>de41e78861</td>\n",
       "      <td>2024-08-19</td>\n",
       "      <td>2024-08-19 12:45:00</td>\n",
       "      <td>-725.85</td>\n",
       "      <td>₽</td>\n",
       "      <td>-725.85</td>\n",
       "      <td>₽</td>\n",
       "      <td>Оплата в BRUSNIKA Gorod Moskva RUS</td>\n",
       "      <td>1665</td>\n",
       "    </tr>\n",
       "    <tr>\n",
       "      <th>1</th>\n",
       "      <td>a126bde1e1</td>\n",
       "      <td>2024-08-19</td>\n",
       "      <td>2024-08-19 09:06:00</td>\n",
       "      <td>-1103.00</td>\n",
       "      <td>₽</td>\n",
       "      <td>-1103.00</td>\n",
       "      <td>₽</td>\n",
       "      <td>Оплата в YANDEX*5411*LAVKA Moscow RUS</td>\n",
       "      <td>3685</td>\n",
       "    </tr>\n",
       "    <tr>\n",
       "      <th>2</th>\n",
       "      <td>72c5c2d74b</td>\n",
       "      <td>2024-08-18</td>\n",
       "      <td>2024-08-18 19:46:00</td>\n",
       "      <td>-197.00</td>\n",
       "      <td>₽</td>\n",
       "      <td>-197.00</td>\n",
       "      <td>₽</td>\n",
       "      <td>Оплата в BELKACAR MOSKVA RUS</td>\n",
       "      <td>5223</td>\n",
       "    </tr>\n",
       "    <tr>\n",
       "      <th>3</th>\n",
       "      <td>e655a37648</td>\n",
       "      <td>2024-08-18</td>\n",
       "      <td>2024-08-18 13:16:00</td>\n",
       "      <td>-640.00</td>\n",
       "      <td>₽</td>\n",
       "      <td>-640.00</td>\n",
       "      <td>₽</td>\n",
       "      <td>Внешний перевод по номеру телефона +79207894867</td>\n",
       "      <td>5037</td>\n",
       "    </tr>\n",
       "    <tr>\n",
       "      <th>4</th>\n",
       "      <td>d6cf48decc</td>\n",
       "      <td>2024-08-18</td>\n",
       "      <td>2024-08-18 13:12:00</td>\n",
       "      <td>-580.00</td>\n",
       "      <td>₽</td>\n",
       "      <td>-580.00</td>\n",
       "      <td>₽</td>\n",
       "      <td>Оплата в PTICHE MOLOKO MOSCOW RUS</td>\n",
       "      <td>1665</td>\n",
       "    </tr>\n",
       "  </tbody>\n",
       "</table>\n",
       "</div>"
      ],
      "text/plain": [
       "           id Дата операции      Время операции   \n",
       "0  de41e78861    2024-08-19 2024-08-19 12:45:00  \\\n",
       "1  a126bde1e1    2024-08-19 2024-08-19 09:06:00   \n",
       "2  72c5c2d74b    2024-08-18 2024-08-18 19:46:00   \n",
       "3  e655a37648    2024-08-18 2024-08-18 13:16:00   \n",
       "4  d6cf48decc    2024-08-18 2024-08-18 13:12:00   \n",
       "\n",
       "   Сумма операции в валюте карты Валюта карты  Сумма в валюте операции   \n",
       "0                        -725.85            ₽                  -725.85  \\\n",
       "1                       -1103.00            ₽                 -1103.00   \n",
       "2                        -197.00            ₽                  -197.00   \n",
       "3                        -640.00            ₽                  -640.00   \n",
       "4                        -580.00            ₽                  -580.00   \n",
       "\n",
       "  Валюта операции                                Описание операции Номер карты  \n",
       "0               ₽               Оплата в BRUSNIKA Gorod Moskva RUS        1665  \n",
       "1               ₽            Оплата в YANDEX*5411*LAVKA Moscow RUS        3685  \n",
       "2               ₽                     Оплата в BELKACAR MOSKVA RUS        5223  \n",
       "3               ₽  Внешний перевод по номеру телефона +79207894867        5037  \n",
       "4               ₽                Оплата в PTICHE MOLOKO MOSCOW RUS        1665  "
      ]
     },
     "execution_count": 7,
     "metadata": {},
     "output_type": "execute_result"
    }
   ],
   "source": [
    "transactions_df.head()"
   ]
  },
  {
   "cell_type": "markdown",
   "metadata": {},
   "source": [
    "# 2. Запроцессить гугол"
   ]
  },
  {
   "cell_type": "code",
   "execution_count": 8,
   "metadata": {},
   "outputs": [],
   "source": [
    "from src.finman.utils.gsheet import GSheetWorker"
   ]
  },
  {
   "cell_type": "code",
   "execution_count": 9,
   "metadata": {},
   "outputs": [],
   "source": [
    "sheet_id = \"1GqwNPuOtQUXfltK6F4oHpx-U1BqBgiDZfC5YfDcJyto\"\n",
    "tbank_main_spreadsheet_name = \"t-bank (main)\"\n",
    "gcreds_file = \"../secrets/finman-433017-da308d823497.json\""
   ]
  },
  {
   "cell_type": "code",
   "execution_count": 10,
   "metadata": {},
   "outputs": [],
   "source": [
    "gsw = GSheetWorker(gcreds_file)"
   ]
  },
  {
   "cell_type": "code",
   "execution_count": 11,
   "metadata": {},
   "outputs": [],
   "source": [
    "gs_df = gsw.get_df(sheet_id, tbank_main_spreadsheet_name)"
   ]
  },
  {
   "cell_type": "code",
   "execution_count": 12,
   "metadata": {},
   "outputs": [
    {
     "data": {
      "text/html": [
       "<div>\n",
       "<style scoped>\n",
       "    .dataframe tbody tr th:only-of-type {\n",
       "        vertical-align: middle;\n",
       "    }\n",
       "\n",
       "    .dataframe tbody tr th {\n",
       "        vertical-align: top;\n",
       "    }\n",
       "\n",
       "    .dataframe thead th {\n",
       "        text-align: right;\n",
       "    }\n",
       "</style>\n",
       "<table border=\"1\" class=\"dataframe\">\n",
       "  <thead>\n",
       "    <tr style=\"text-align: right;\">\n",
       "      <th></th>\n",
       "      <th>id</th>\n",
       "      <th>Дата операции</th>\n",
       "      <th>Время операции</th>\n",
       "      <th>Сумма операции в валюте карты</th>\n",
       "      <th>Валюта карты</th>\n",
       "      <th>Сумма в валюте операции</th>\n",
       "      <th>Валюта операции</th>\n",
       "      <th>Описание операции</th>\n",
       "      <th>Номер карты</th>\n",
       "    </tr>\n",
       "  </thead>\n",
       "  <tbody>\n",
       "  </tbody>\n",
       "</table>\n",
       "</div>"
      ],
      "text/plain": [
       "Empty DataFrame\n",
       "Columns: [id, Дата операции, Время операции, Сумма операции в валюте карты, Валюта карты, Сумма в валюте операции, Валюта операции, Описание операции, Номер карты]\n",
       "Index: []"
      ]
     },
     "execution_count": 12,
     "metadata": {},
     "output_type": "execute_result"
    }
   ],
   "source": [
    "gs_df.head()"
   ]
  },
  {
   "cell_type": "code",
   "execution_count": 13,
   "metadata": {},
   "outputs": [],
   "source": [
    "missing_recrods = transactions_df.loc[~transactions_df['id'].isin(gs_df['id'])]"
   ]
  },
  {
   "cell_type": "code",
   "execution_count": 14,
   "metadata": {},
   "outputs": [
    {
     "data": {
      "text/html": [
       "<div>\n",
       "<style scoped>\n",
       "    .dataframe tbody tr th:only-of-type {\n",
       "        vertical-align: middle;\n",
       "    }\n",
       "\n",
       "    .dataframe tbody tr th {\n",
       "        vertical-align: top;\n",
       "    }\n",
       "\n",
       "    .dataframe thead th {\n",
       "        text-align: right;\n",
       "    }\n",
       "</style>\n",
       "<table border=\"1\" class=\"dataframe\">\n",
       "  <thead>\n",
       "    <tr style=\"text-align: right;\">\n",
       "      <th></th>\n",
       "      <th>id</th>\n",
       "      <th>Дата операции</th>\n",
       "      <th>Время операции</th>\n",
       "      <th>Сумма операции в валюте карты</th>\n",
       "      <th>Валюта карты</th>\n",
       "      <th>Сумма в валюте операции</th>\n",
       "      <th>Валюта операции</th>\n",
       "      <th>Описание операции</th>\n",
       "      <th>Номер карты</th>\n",
       "    </tr>\n",
       "  </thead>\n",
       "  <tbody>\n",
       "    <tr>\n",
       "      <th>0</th>\n",
       "      <td>de41e78861</td>\n",
       "      <td>2024-08-19</td>\n",
       "      <td>2024-08-19 12:45:00</td>\n",
       "      <td>-725.85</td>\n",
       "      <td>₽</td>\n",
       "      <td>-725.85</td>\n",
       "      <td>₽</td>\n",
       "      <td>Оплата в BRUSNIKA Gorod Moskva RUS</td>\n",
       "      <td>1665</td>\n",
       "    </tr>\n",
       "    <tr>\n",
       "      <th>1</th>\n",
       "      <td>a126bde1e1</td>\n",
       "      <td>2024-08-19</td>\n",
       "      <td>2024-08-19 09:06:00</td>\n",
       "      <td>-1103.00</td>\n",
       "      <td>₽</td>\n",
       "      <td>-1103.00</td>\n",
       "      <td>₽</td>\n",
       "      <td>Оплата в YANDEX*5411*LAVKA Moscow RUS</td>\n",
       "      <td>3685</td>\n",
       "    </tr>\n",
       "    <tr>\n",
       "      <th>2</th>\n",
       "      <td>72c5c2d74b</td>\n",
       "      <td>2024-08-18</td>\n",
       "      <td>2024-08-18 19:46:00</td>\n",
       "      <td>-197.00</td>\n",
       "      <td>₽</td>\n",
       "      <td>-197.00</td>\n",
       "      <td>₽</td>\n",
       "      <td>Оплата в BELKACAR MOSKVA RUS</td>\n",
       "      <td>5223</td>\n",
       "    </tr>\n",
       "    <tr>\n",
       "      <th>3</th>\n",
       "      <td>e655a37648</td>\n",
       "      <td>2024-08-18</td>\n",
       "      <td>2024-08-18 13:16:00</td>\n",
       "      <td>-640.00</td>\n",
       "      <td>₽</td>\n",
       "      <td>-640.00</td>\n",
       "      <td>₽</td>\n",
       "      <td>Внешний перевод по номеру телефона +79207894867</td>\n",
       "      <td>5037</td>\n",
       "    </tr>\n",
       "    <tr>\n",
       "      <th>4</th>\n",
       "      <td>d6cf48decc</td>\n",
       "      <td>2024-08-18</td>\n",
       "      <td>2024-08-18 13:12:00</td>\n",
       "      <td>-580.00</td>\n",
       "      <td>₽</td>\n",
       "      <td>-580.00</td>\n",
       "      <td>₽</td>\n",
       "      <td>Оплата в PTICHE MOLOKO MOSCOW RUS</td>\n",
       "      <td>1665</td>\n",
       "    </tr>\n",
       "    <tr>\n",
       "      <th>...</th>\n",
       "      <td>...</td>\n",
       "      <td>...</td>\n",
       "      <td>...</td>\n",
       "      <td>...</td>\n",
       "      <td>...</td>\n",
       "      <td>...</td>\n",
       "      <td>...</td>\n",
       "      <td>...</td>\n",
       "      <td>...</td>\n",
       "    </tr>\n",
       "    <tr>\n",
       "      <th>1309</th>\n",
       "      <td>8f2d71ef52</td>\n",
       "      <td>2024-01-02</td>\n",
       "      <td>2024-01-02 15:06:00</td>\n",
       "      <td>-305.67</td>\n",
       "      <td>₽</td>\n",
       "      <td>-305.67</td>\n",
       "      <td>₽</td>\n",
       "      <td>Оплата в CITYDRIVE Gorod Moskva RUS</td>\n",
       "      <td>2475</td>\n",
       "    </tr>\n",
       "    <tr>\n",
       "      <th>1310</th>\n",
       "      <td>6ccac9495b</td>\n",
       "      <td>2024-01-02</td>\n",
       "      <td>2024-01-02 11:44:00</td>\n",
       "      <td>-1600.00</td>\n",
       "      <td>₽</td>\n",
       "      <td>-1600.00</td>\n",
       "      <td>₽</td>\n",
       "      <td>Оплата в GOSUSLUGI.RU MOSKVA RUS</td>\n",
       "      <td>2475</td>\n",
       "    </tr>\n",
       "    <tr>\n",
       "      <th>1311</th>\n",
       "      <td>6b0565872a</td>\n",
       "      <td>2024-01-01</td>\n",
       "      <td>2024-01-01 17:42:00</td>\n",
       "      <td>-2000.00</td>\n",
       "      <td>₽</td>\n",
       "      <td>-2000.00</td>\n",
       "      <td>₽</td>\n",
       "      <td>Внутренний перевод на договор</td>\n",
       "      <td>5421</td>\n",
       "    </tr>\n",
       "    <tr>\n",
       "      <th>1312</th>\n",
       "      <td>ee2f8c8d22</td>\n",
       "      <td>2024-01-01</td>\n",
       "      <td>2024-01-01 03:31:00</td>\n",
       "      <td>-100.00</td>\n",
       "      <td>₽</td>\n",
       "      <td>-100.00</td>\n",
       "      <td>₽</td>\n",
       "      <td>Оплата в YANDEX*4121*TAXI Moskva RUS</td>\n",
       "      <td>3685</td>\n",
       "    </tr>\n",
       "    <tr>\n",
       "      <th>1313</th>\n",
       "      <td>e521bd09c1</td>\n",
       "      <td>2024-01-01</td>\n",
       "      <td>2024-01-01 03:24:00</td>\n",
       "      <td>-1130.00</td>\n",
       "      <td>₽</td>\n",
       "      <td>-1130.00</td>\n",
       "      <td>₽</td>\n",
       "      <td>Оплата в YANDEX*4121*TAXI Moskva RUS</td>\n",
       "      <td>3685</td>\n",
       "    </tr>\n",
       "  </tbody>\n",
       "</table>\n",
       "<p>1314 rows × 9 columns</p>\n",
       "</div>"
      ],
      "text/plain": [
       "              id Дата операции      Время операции   \n",
       "0     de41e78861    2024-08-19 2024-08-19 12:45:00  \\\n",
       "1     a126bde1e1    2024-08-19 2024-08-19 09:06:00   \n",
       "2     72c5c2d74b    2024-08-18 2024-08-18 19:46:00   \n",
       "3     e655a37648    2024-08-18 2024-08-18 13:16:00   \n",
       "4     d6cf48decc    2024-08-18 2024-08-18 13:12:00   \n",
       "...          ...           ...                 ...   \n",
       "1309  8f2d71ef52    2024-01-02 2024-01-02 15:06:00   \n",
       "1310  6ccac9495b    2024-01-02 2024-01-02 11:44:00   \n",
       "1311  6b0565872a    2024-01-01 2024-01-01 17:42:00   \n",
       "1312  ee2f8c8d22    2024-01-01 2024-01-01 03:31:00   \n",
       "1313  e521bd09c1    2024-01-01 2024-01-01 03:24:00   \n",
       "\n",
       "      Сумма операции в валюте карты Валюта карты  Сумма в валюте операции   \n",
       "0                           -725.85            ₽                  -725.85  \\\n",
       "1                          -1103.00            ₽                 -1103.00   \n",
       "2                           -197.00            ₽                  -197.00   \n",
       "3                           -640.00            ₽                  -640.00   \n",
       "4                           -580.00            ₽                  -580.00   \n",
       "...                             ...          ...                      ...   \n",
       "1309                        -305.67            ₽                  -305.67   \n",
       "1310                       -1600.00            ₽                 -1600.00   \n",
       "1311                       -2000.00            ₽                 -2000.00   \n",
       "1312                        -100.00            ₽                  -100.00   \n",
       "1313                       -1130.00            ₽                 -1130.00   \n",
       "\n",
       "     Валюта операции                                Описание операции   \n",
       "0                  ₽               Оплата в BRUSNIKA Gorod Moskva RUS  \\\n",
       "1                  ₽            Оплата в YANDEX*5411*LAVKA Moscow RUS   \n",
       "2                  ₽                     Оплата в BELKACAR MOSKVA RUS   \n",
       "3                  ₽  Внешний перевод по номеру телефона +79207894867   \n",
       "4                  ₽                Оплата в PTICHE MOLOKO MOSCOW RUS   \n",
       "...              ...                                              ...   \n",
       "1309               ₽              Оплата в CITYDRIVE Gorod Moskva RUS   \n",
       "1310               ₽                 Оплата в GOSUSLUGI.RU MOSKVA RUS   \n",
       "1311               ₽                    Внутренний перевод на договор   \n",
       "1312               ₽             Оплата в YANDEX*4121*TAXI Moskva RUS   \n",
       "1313               ₽             Оплата в YANDEX*4121*TAXI Moskva RUS   \n",
       "\n",
       "     Номер карты  \n",
       "0           1665  \n",
       "1           3685  \n",
       "2           5223  \n",
       "3           5037  \n",
       "4           1665  \n",
       "...          ...  \n",
       "1309        2475  \n",
       "1310        2475  \n",
       "1311        5421  \n",
       "1312        3685  \n",
       "1313        3685  \n",
       "\n",
       "[1314 rows x 9 columns]"
      ]
     },
     "execution_count": 14,
     "metadata": {},
     "output_type": "execute_result"
    }
   ],
   "source": [
    "missing_recrods"
   ]
  },
  {
   "cell_type": "code",
   "execution_count": 15,
   "metadata": {},
   "outputs": [],
   "source": [
    "# missing_recrods['Время операции'].astype(str)"
   ]
  },
  {
   "cell_type": "code",
   "execution_count": 16,
   "metadata": {},
   "outputs": [],
   "source": [
    "# missing_recrods['Дата и время операции'] = missing_recrods['Дата и время операции'].dt.strftime('%Y-%m-%d %H:%M')\n",
    "# missing_recrods['Дата списания'] = missing_recrods['Дата списания'].dt.strftime('%Y-%m-%d %H:%M')\n",
    "missing_recrods['Дата операции'] = missing_recrods['Дата операции'].astype(str)\n",
    "missing_recrods['Время операции'] = missing_recrods['Время операции'].dt.strftime('%Y-%m-%d %H:%M')\n",
    "\n",
    "\n",
    "gsw.insert_df(missing_recrods, sheet_id, tbank_main_spreadsheet_name)"
   ]
  },
  {
   "cell_type": "code",
   "execution_count": null,
   "metadata": {},
   "outputs": [],
   "source": []
  }
 ],
 "metadata": {
  "kernelspec": {
   "display_name": "Python 3",
   "language": "python",
   "name": "python3"
  },
  "language_info": {
   "codemirror_mode": {
    "name": "ipython",
    "version": 3
   },
   "file_extension": ".py",
   "mimetype": "text/x-python",
   "name": "python",
   "nbconvert_exporter": "python",
   "pygments_lexer": "ipython3",
   "version": "3.10.11"
  }
 },
 "nbformat": 4,
 "nbformat_minor": 2
}
